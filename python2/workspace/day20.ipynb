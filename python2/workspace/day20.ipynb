{
 "cells": [
  {
   "cell_type": "code",
   "execution_count": null,
   "id": "6814bbf1",
   "metadata": {},
   "outputs": [],
   "source": [
    "# pip install pyinstaller"
   ]
  },
  {
   "cell_type": "code",
   "execution_count": 1,
   "id": "c2ff2b77",
   "metadata": {},
   "outputs": [],
   "source": [
    "# import requests\n",
    "# from bs4 import BeautifulSoup as bsb\n",
    "# import pandas as pd\n",
    "\n",
    "# URL = 'https://www.jobkorea.co.kr/Search/'\n",
    "# # 페이징 처리 -> 한페이지에 20개\n",
    "\n",
    "# param = {'stext':'백엔드', 'tabType':'recruit', 'Page_No':'114'}\n",
    "# html = requests.get(URL, params=param)\n",
    "# soup = bs(html.text, 'html.parser')\n",
    "# b = soup.select_one('div.lists-cnt').select('li.list-post')\n",
    "# job_list = []\n",
    "# for i in b:\n",
    "#     try:\n",
    "#         company = i.select_one('div.post-list-corp > a').get('title')\n",
    "#         job_name = i.select_one('div.post-list-info > a').get('title')\n",
    "#         link = i.select_one('div.post-list-info > a.title').get('href')\n",
    "#         if link.startswith('https://'):\n",
    "#             link = i.select_one('a.title').get('href')\n",
    "#         else:\n",
    "#             link = 'https://www.jobkorea.co.kr/' + link \n",
    "#         detail = i.select_one('div.post-list-info > p')\n",
    "#         exp = detail.select_one('span.exp').text\n",
    "#         edu = detail.select_one('span.edu').text\n",
    "#         loc_long = detail.select_one('span.long').text\n",
    "#         date = detail.select_one('span.date').text\n",
    "#         etc = i.select_one('p.etc').text\n",
    "#     except:\n",
    "#          pass\n",
    "#     job_list.append([company, job_name, exp, edu, loc_long, date, etc, link])\n",
    "#     df = pd.DataFrame(job_list, columns=['company', 'job_name', 'exp', 'edu', 'loc_long', 'date', 'etc', 'link'])\n",
    "#     df.to_csv('test.csv')"
   ]
  },
  {
   "cell_type": "code",
   "execution_count": 1,
   "id": "e994a755",
   "metadata": {
    "scrolled": true
   },
   "outputs": [
    {
     "name": "stdout",
     "output_type": "stream",
     "text": [
      "Good\n"
     ]
    }
   ],
   "source": [
    "def main():\n",
    "    import requests\n",
    "    from bs4 import BeautifulSoup as bs\n",
    "    import pandas as pd\n",
    "    \n",
    "    URL = 'https://www.jobkorea.co.kr/Search/'\n",
    "# 페이징 처리 -> 한페이지에 20개\n",
    "# Ord=ApplyCloseDtAsc 마감일순\n",
    "\n",
    "    param = {'stext':'백엔드', 'tabType':'recruit', 'Page_No':'114'}\n",
    "    html = requests.get(URL, params=param)\n",
    "    soup = bs(html.text, 'html.parser')\n",
    "    b = soup.select_one('div.lists-cnt').select('li.list-post')\n",
    "    job_list = []\n",
    "    for i in b:\n",
    "        try:\n",
    "            company = i.select_one('div.post-list-corp > a').get('title')\n",
    "            job_name = i.select_one('div.post-list-info > a').get('title')\n",
    "            link = i.select_one('div.post-list-info > a.title').get('href')\n",
    "            if link.startswith('https://'):\n",
    "                link = i.select_one('a.title').get('href')\n",
    "            else:\n",
    "                link = 'https://www.jobkorea.co.kr/' + link \n",
    "            detail = i.select_one('div.post-list-info > p')\n",
    "            exp = detail.select_one('span.exp').text\n",
    "            edu = detail.select_one('span.edu').text\n",
    "            loc_long = detail.select_one('span.long').text\n",
    "            date = detail.select_one('span.date').text\n",
    "            etc = i.select_one('p.etc').text\n",
    "        except:\n",
    "            pass\n",
    "    job_list.append([company, job_name, exp, edu, loc_long, date, etc, link])\n",
    "    df = pd.DataFrame(job_list, columns=['company', 'job_name', 'exp', 'edu', 'loc_long', 'date', 'etc', 'link'])\n",
    "    df.to_csv('test.csv')\n",
    "    \n",
    "if __name__ == '__main__':\n",
    "    print('Good')\n",
    "    main()\n"
   ]
  }
 ],
 "metadata": {
  "kernelspec": {
   "display_name": "Python 3 (ipykernel)",
   "language": "python",
   "name": "python3"
  },
  "language_info": {
   "codemirror_mode": {
    "name": "ipython",
    "version": 3
   },
   "file_extension": ".py",
   "mimetype": "text/x-python",
   "name": "python",
   "nbconvert_exporter": "python",
   "pygments_lexer": "ipython3",
   "version": "3.9.12"
  }
 },
 "nbformat": 4,
 "nbformat_minor": 5
}
