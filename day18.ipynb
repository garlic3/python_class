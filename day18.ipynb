{
 "cells": [
  {
   "cell_type": "code",
   "execution_count": 119,
   "id": "e70dcb4c",
   "metadata": {},
   "outputs": [],
   "source": [
    "import time"
   ]
  },
  {
   "cell_type": "code",
   "execution_count": 123,
   "id": "92b299dd",
   "metadata": {},
   "outputs": [
    {
     "name": "stdout",
     "output_type": "stream",
     "text": [
      "실행 시간 0.0003750324249267578\n"
     ]
    }
   ],
   "source": [
    "# 시간 복잡도\n",
    "\n",
    "total = 0\n",
    "s = time.time()\n",
    "for i in range(1, 1001):\n",
    "    total += i\n",
    "\n",
    "print(\"실행 시간\", (time.time() - s))\n",
    "# 시간복잡도는 O(n)"
   ]
  },
  {
   "cell_type": "code",
   "execution_count": 122,
   "id": "846eb3be",
   "metadata": {},
   "outputs": [
    {
     "name": "stdout",
     "output_type": "stream",
     "text": [
      "실행 시간 0.00014781951904296875\n"
     ]
    }
   ],
   "source": [
    "s = time.time()\n",
    "# a부터 b까지 합계 구하는 공식 => (a+b)*(a부터 b까지 숫자의 개수)/2\n",
    "total = (1+1000) * 1000 / 2\n",
    "print(\"실행 시간\", (time.time() - s)) \n",
    "# 시간복잡도는 O(1)"
   ]
  },
  {
   "cell_type": "code",
   "execution_count": null,
   "id": "f8a5e143",
   "metadata": {},
   "outputs": [],
   "source": []
  },
  {
   "cell_type": "code",
   "execution_count": 124,
   "id": "c14aa4cb",
   "metadata": {},
   "outputs": [
    {
     "name": "stdout",
     "output_type": "stream",
     "text": [
      "i=0, j=4\n",
      "i=0, j=3\n",
      "i=0, j=2\n",
      "i=0, j=1\n",
      "i=1, j=4\n",
      "i=1, j=3\n",
      "i=1, j=2\n",
      "i=2, j=4\n",
      "i=2, j=3\n",
      "i=3, j=4\n"
     ]
    },
    {
     "data": {
      "text/plain": [
       "[1, 2, 3, 5, 6]"
      ]
     },
     "execution_count": 124,
     "metadata": {},
     "output_type": "execute_result"
    }
   ],
   "source": [
    "# 버블 정렬\n",
    "a = [2,1,6,5,3]\n",
    "\n",
    "# 패스 과정이 n-1 번 실행\n",
    "def bubble_sort(arr):\n",
    "    for i in range(len(arr)-1):\n",
    "#     역순으로 이미 결정된 자리를 제외하고 접근할 수 있어야함\n",
    "        for j in range(len(arr)-1, i, -1):\n",
    "            print(f\"i={i}, j={j}\")\n",
    "            if arr[j-1] > arr[j]:\n",
    "                arr[j-1], arr[j] = arr[j], arr[j-1]\n",
    "    return arr\n",
    "                \n",
    "bubble_sort(a) "
   ]
  },
  {
   "cell_type": "code",
   "execution_count": 126,
   "id": "c1de8e2c",
   "metadata": {
    "scrolled": true
   },
   "outputs": [
    {
     "name": "stdout",
     "output_type": "stream",
     "text": [
      "i=0, j=4\n",
      "i=0, j=3\n",
      "i=0, j=2\n",
      "i=0, j=1\n",
      "i=1, j=4\n",
      "i=1, j=3\n",
      "i=1, j=2\n",
      "i=2, j=4\n",
      "i=2, j=3\n",
      "정렬완료!\n",
      "[1, 2, 3, 5, 6]\n",
      "6번 교환이 일어났습니다\n"
     ]
    }
   ],
   "source": [
    "# 버블 정렬 예제\n",
    "# 1. 내림차순\n",
    "# 2. 교환 횟수 출력\n",
    "# 3. 교환이 일어나지 않을시 정렬이 완료된 것이므로 반복문 종료\n",
    "\n",
    "\n",
    "a = [2,1,6,5,3]\n",
    "def new_bubble_sort(arr):\n",
    "    count = 0\n",
    "\n",
    "    for i in range(len(a)-1):\n",
    "        e_count = 0\n",
    "#     역순으로 이미 결정된 자리를 제외하고 접근할 수 있어야함\n",
    "        for j in range(len(a)-1, i, -1):\n",
    "            print(f\"i={i}, j={j}\")\n",
    "            if a[j-1] > a[j]:\n",
    "                a[j-1], a[j] = a[j], a[j-1]\n",
    "                count += 1\n",
    "                e_count += 1\n",
    "        if e_count == 0:\n",
    "            print(\"정렬완료!\")\n",
    "            break\n",
    "    return arr\n",
    "\n",
    "print(new_bubble_sort(a))          \n",
    "print(f\"{count}번 교환이 일어났습니다\")"
   ]
  },
  {
   "cell_type": "code",
   "execution_count": 147,
   "id": "97cf7a94",
   "metadata": {},
   "outputs": [
    {
     "name": "stdout",
     "output_type": "stream",
     "text": [
      "left 1\n",
      "[1, 6, 2, 3, 4, 2]\n",
      "right 4\n",
      "[1, 2, 3, 4, 2, 6]\n",
      "left 3\n",
      "[1, 2, 2, 3, 4, 6]\n",
      "right 3\n",
      "[1, 2, 2, 3, 4, 6]\n"
     ]
    },
    {
     "data": {
      "text/plain": [
       "[1, 2, 2, 3, 4, 6]"
      ]
     },
     "execution_count": 147,
     "metadata": {},
     "output_type": "execute_result"
    }
   ],
   "source": [
    "# 셰이커 정렬\n",
    "\n",
    "# 스캔 범위의 첫 원소 인덱스\n",
    "left = 0\n",
    "\n",
    "# 스캔 범위의 마지막 원소 인덱스\n",
    "# right = len(a) -1\n",
    "\n",
    "# last = right\n",
    "\n",
    "# while left < right:\n",
    "#     # 맨뒤에서 맨앞으로 스캔\n",
    "#     for j in range(right, left, -1):\n",
    "#         if a[j-1] > a[j]:\n",
    "#             a[j-1], a[j] = a[j], a[j-1]\n",
    "#             last = j\n",
    "#     left = last\n",
    "#     # 맨앞에서 맨 뒤로 스캔\n",
    "#     for j in range(left, right):\n",
    "#         if a[j] > a[j+1]:\n",
    "#             a[j], a[j+1] = a[j+1], a[j]\n",
    "#             last = j\n",
    "#     right = last\n",
    "    \n",
    "def shake_sort(arr):\n",
    "    #스캔 범위 첫번째 요소 인덱스\n",
    "    left = 0\n",
    "    #스캔 범위 마지막 요소 인덱스\n",
    "    right = len(arr)-1\n",
    "    # 마지막 범위\n",
    "    last = right\n",
    "    \n",
    "#     [6][2][3][4][2][1]\n",
    "    \n",
    "    \n",
    "#   마지막 인덱스가 처음 인덱스보다 큰동안\n",
    "\n",
    "    while left < right:\n",
    "        #마지막 부터, 처음까지 역순으로 for문\n",
    "        for j in range(right, left, -1):\n",
    "            # 이전의 값이 더 크다면 \n",
    "            if arr[j-1] > arr[j]:\n",
    "                # 위치 변경\n",
    "                arr[j-1], arr[j] = arr[j], arr[j-1]\n",
    "                # 마지막은 j \n",
    "                last = j\n",
    "        # 방향 전환\n",
    "        \n",
    "        # last까지 정렬 완료  \n",
    "        left = last\n",
    "        print(\"left\", left)\n",
    "        print(arr)\n",
    "    # 맨앞에서 맨 뒤로 스캔\n",
    "        for j in range(left, right):\n",
    "            if arr[j] > arr[j+1]:\n",
    "                arr[j], arr[j+1] = arr[j+1], arr[j]\n",
    "                last = j\n",
    "                \n",
    "        right = last\n",
    "        print(\"right\", right)\n",
    "        print(arr)\n",
    "\n",
    "    return arr\n",
    "\n",
    "shake_sort([6,2,3,4,2,1])"
   ]
  },
  {
   "cell_type": "code",
   "execution_count": 23,
   "id": "49b19862",
   "metadata": {
    "scrolled": true
   },
   "outputs": [
    {
     "name": "stdout",
     "output_type": "stream",
     "text": [
      "[1, 2, 3, 5, 6]\n"
     ]
    }
   ],
   "source": [
    "# 단순 선택 정렬\n",
    "\n",
    "b = [3,5,6,2,1]\n",
    "\n",
    "for i in range(len(b)-1):\n",
    "#   최소값 기준 인덱스를 0,1,2,3.. i를 이용    \n",
    "    min_num = i\n",
    "    \n",
    "    #최소값의 위치와 값을 얻기 위한 for문\n",
    "    for j in range(len(b)-1, i, -1):   \n",
    "        # 최소값의 위치 찾기\n",
    "        if (b[j] < b[min_num]):\n",
    "            min_num = j\n",
    "    #찾은 위치와 현재 i번째 자리의 원소 교환\n",
    "    b[min_num], b[i] = b[i],b[min_num]\n",
    "#     print(\"min\", b[min_num], \"j\", b[i])\n",
    "    print(b)      "
   ]
  },
  {
   "cell_type": "code",
   "execution_count": 54,
   "id": "a9494e7c",
   "metadata": {},
   "outputs": [
    {
     "name": "stdout",
     "output_type": "stream",
     "text": [
      "[1, 5, 6, 2, 3]\n",
      "[1, 2, 6, 5, 3]\n",
      "[1, 2, 3, 5, 6]\n",
      "[1, 2, 3, 5, 6]\n"
     ]
    }
   ],
   "source": [
    "# 단순 선택 정렬 개선\n",
    "# 1. 교환횟수\n",
    "# 2. 정렬이 완료되면 break 정렬 완료! 출력\n",
    "\n",
    "b = [3,5,6,2,1]\n",
    "count = 0\n",
    "\n",
    "for i in range(len(b)-1):\n",
    "#   최소값 기준 인덱스를 0,1,2,3.. i를 이용    \n",
    "    min_num = i\n",
    "    \n",
    "    #최소값의 위치와 값을 얻기 위한 for문\n",
    "    for j in range(len(b)-1, i, -1):   \n",
    "        # 최소값의 위치 찾기\n",
    "        if (b[j] < b[min_num]):\n",
    "            min_num = j\n",
    "    #찾은 위치와 현재 i번째 자리의 원소 교환\n",
    "    b[min_num], b[i] = b[i],b[min_num]\n",
    "    \n",
    "#     print(\"min\", b[min_num], \"j\", b[i])\n",
    "    print(b)      "
   ]
  },
  {
   "cell_type": "code",
   "execution_count": null,
   "id": "b96d92e5",
   "metadata": {},
   "outputs": [],
   "source": []
  },
  {
   "cell_type": "code",
   "execution_count": 117,
   "id": "d90fe5f7",
   "metadata": {},
   "outputs": [
    {
     "name": "stdout",
     "output_type": "stream",
     "text": [
      "[1, 6, 2, 5, 3]\n",
      "[1, 2, 6, 5, 3]\n",
      "[1, 2, 5, 6, 3]\n",
      "[1, 2, 3, 5, 6]\n"
     ]
    }
   ],
   "source": [
    "# 단순 삽입 정렬\n",
    "# 값이 가장 작은 원소를 선택하지 않음\n",
    "c = [6,1,2,5,3]\n",
    "\n",
    "for i in range(1, len(c)):\n",
    "    j = i\n",
    "    temp = c[i]\n",
    "    # 끝까지 다 확인\n",
    "    # 이전값이 더 클때(정렬 완료)\n",
    "    while j > 0 and c[j-1] > temp:\n",
    "        c[j] = c[j-1]\n",
    "        j -= 1\n",
    "    c[j] = temp\n",
    "    print(c)\n"
   ]
  },
  {
   "cell_type": "code",
   "execution_count": 103,
   "id": "07d6fa49",
   "metadata": {},
   "outputs": [
    {
     "name": "stdout",
     "output_type": "stream",
     "text": [
      "[1, 2, 3, 5, 6]\n"
     ]
    }
   ],
   "source": [
    "c = [6,1,2,5,3]\n",
    "for i in range(1, len(c)):\n",
    "    idx = i-1\n",
    "    new_item = c[i]\n",
    "    while idx >= 0 and new_item <c[idx]:\n",
    "        c[idx+1] = c[idx]\n",
    "        idx -= 1\n",
    "    c[idx+1] = new_item\n",
    "print(c)"
   ]
  },
  {
   "cell_type": "code",
   "execution_count": 116,
   "id": "f0329568",
   "metadata": {},
   "outputs": [
    {
     "name": "stdout",
     "output_type": "stream",
     "text": [
      "정렬전 : [6, 1, 2, 5, 3]\n",
      "[1, 6, 2, 5, 3]\n",
      "[1, 2, 6, 5, 3]\n",
      "[1, 2, 5, 6, 3]\n",
      "[1, 2, 3, 5, 6]\n",
      "정렬후 : [1, 2, 3, 5, 6]\n"
     ]
    }
   ],
   "source": [
    "def insert_find(arr):\n",
    "    n = len(arr)  #배열 길이를 구해서 n에 대입\n",
    "    for i in range(1, n): #1부터 시작 n-1 횟수까지 반복, \n",
    "                        #i 변수는 각 사이클의 끝위치 지정\n",
    "        for j in range(i, 0, -1): #맨 뒤부터 1번째까지 반복,  \n",
    "            if( arr[j-1] > arr[j] ):  #현재(j)와 현재-1(j-1) 위치의 값을 비교하여\n",
    "                                #앞이 작다면 두 값을 교환\n",
    "                arr[j-1], arr[j] = arr[j], arr[j-1]   \n",
    "        print(arr)\n",
    "    return arr                    #정렬된 배열 반환\n",
    "\n",
    "dataarr = [6,1,2,5,3]\n",
    "# c = [6,1,2,5,3]\n",
    "\n",
    "\n",
    "print(f\"정렬전 : {dataarr}\")\n",
    "dataarr = insert_find(dataarr)\n",
    "print(f\"정렬후 : {dataarr}\")"
   ]
  },
  {
   "cell_type": "code",
   "execution_count": null,
   "id": "18d7992a",
   "metadata": {},
   "outputs": [],
   "source": [
    "# 퀵정렬\n"
   ]
  }
 ],
 "metadata": {
  "kernelspec": {
   "display_name": "Python 3 (ipykernel)",
   "language": "python",
   "name": "python3"
  },
  "language_info": {
   "codemirror_mode": {
    "name": "ipython",
    "version": 3
   },
   "file_extension": ".py",
   "mimetype": "text/x-python",
   "name": "python",
   "nbconvert_exporter": "python",
   "pygments_lexer": "ipython3",
   "version": "3.9.12"
  }
 },
 "nbformat": 4,
 "nbformat_minor": 5
}
