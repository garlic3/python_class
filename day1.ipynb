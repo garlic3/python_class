{
 "cells": [
  {
   "cell_type": "code",
   "execution_count": 1,
   "id": "498df495",
   "metadata": {},
   "outputs": [
    {
     "name": "stdout",
     "output_type": "stream",
     "text": [
      "서민성\n"
     ]
    }
   ],
   "source": [
    "# 이름을 출력함 \n",
    "# print(\"서민성\")\n",
    "print(\"서민성\")\n"
   ]
  },
  {
   "cell_type": "code",
   "execution_count": 2,
   "id": "5e92fdf1",
   "metadata": {
    "scrolled": true
   },
   "outputs": [
    {
     "name": "stdout",
     "output_type": "stream",
     "text": [
      "서민성\n"
     ]
    }
   ],
   "source": [
    "# 한줄주석\n",
    "\n",
    "# print(\"서민성\")\n",
    "print(\"서민성\")"
   ]
  },
  {
   "cell_type": "code",
   "execution_count": 3,
   "id": "c8f004a1",
   "metadata": {},
   "outputs": [
    {
     "name": "stdout",
     "output_type": "stream",
     "text": [
      "서민성\n",
      "서민성\n"
     ]
    }
   ],
   "source": [
    "# 범위주석\n",
    "\n",
    "print(\"서민성\")\n",
    "'''\n",
    "print(\"서민성\")\n",
    "print(\"서민성\")\n",
    "print(\"서민성\")\n",
    "print(\"서민성\")\n",
    "print(\"서민성\")\n",
    "print(\"서민성\")\n",
    "print(\"서민성\")\n",
    "\n",
    "'''\n",
    "print(\"서민성\")"
   ]
  },
  {
   "cell_type": "code",
   "execution_count": 4,
   "id": "1dc2d79f",
   "metadata": {},
   "outputs": [
    {
     "name": "stdout",
     "output_type": "stream",
     "text": [
      "서민성\n"
     ]
    }
   ],
   "source": [
    "# 큰 따옴표 사용\n",
    "print(\"서민성\")"
   ]
  },
  {
   "cell_type": "code",
   "execution_count": 5,
   "id": "8ae33e1e",
   "metadata": {},
   "outputs": [
    {
     "name": "stdout",
     "output_type": "stream",
     "text": [
      "서민성\n"
     ]
    }
   ],
   "source": [
    "# 작은 따옴표 사용\n",
    "print('서민성')"
   ]
  },
  {
   "cell_type": "code",
   "execution_count": 6,
   "id": "5c7fa3fa",
   "metadata": {},
   "outputs": [
    {
     "name": "stdout",
     "output_type": "stream",
     "text": [
      "아버지가 말씀하셨다 '오늘 뭐먹었니'\n"
     ]
    }
   ],
   "source": [
    "# 따옴표 2가지를 혼용해서 사용할 경우\n",
    "print(\"아버지가 말씀하셨다 '오늘 뭐먹었니'\")"
   ]
  },
  {
   "cell_type": "code",
   "execution_count": null,
   "id": "15126483",
   "metadata": {},
   "outputs": [],
   "source": [
    "# 범위주석 -> 코드의 문서화에 사용되기때문에 출력을 하면 하단과 같이 나오지만 소스코드에 영향을 주지 않음 \n",
    "'''\n",
    "print(\"서민성)\n",
    "\n",
    "'''"
   ]
  },
  {
   "cell_type": "code",
   "execution_count": null,
   "id": "246840d0",
   "metadata": {},
   "outputs": [],
   "source": [
    "# , 를 이용하여 문자열을 연결\n",
    "print(\"아버지가\", \"방에\")"
   ]
  },
  {
   "cell_type": "code",
   "execution_count": null,
   "id": "428576dc",
   "metadata": {},
   "outputs": [],
   "source": [
    "#  + 를 이용하여 문자열을 연결\n",
    "print(\"아버지가\"+\"방에\")"
   ]
  },
  {
   "cell_type": "code",
   "execution_count": null,
   "id": "cd331de2",
   "metadata": {},
   "outputs": [],
   "source": [
    "# 아버지가 / 방에 / 들어가신다 를 ,와 +를 사용하여 연결\n",
    "print(\"아버지가\", \"방에\", \"들어가신다\")\n",
    "print(\"아버지가\"+\"방에\"+\"들어가신다\")"
   ]
  }
 ],
 "metadata": {
  "kernelspec": {
   "display_name": "Python 3",
   "language": "python",
   "name": "python3"
  },
  "language_info": {
   "codemirror_mode": {
    "name": "ipython",
    "version": 3
   },
   "file_extension": ".py",
   "mimetype": "text/x-python",
   "name": "python",
   "nbconvert_exporter": "python",
   "pygments_lexer": "ipython3",
   "version": "3.9.6"
  }
 },
 "nbformat": 4,
 "nbformat_minor": 5
}
