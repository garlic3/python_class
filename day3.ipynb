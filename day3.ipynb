{
 "cells": [
  {
   "cell_type": "code",
   "execution_count": 1,
   "id": "84273be6",
   "metadata": {
    "scrolled": true
   },
   "outputs": [
    {
     "name": "stdout",
     "output_type": "stream",
     "text": [
      "A\n",
      "65\n"
     ]
    }
   ],
   "source": [
    "# 아스키코드\n",
    "\n",
    "print(chr(65)) \n",
    "print(ord('A'))"
   ]
  },
  {
   "cell_type": "code",
   "execution_count": 4,
   "id": "fbd42919",
   "metadata": {
    "scrolled": true
   },
   "outputs": [
    {
     "name": "stdout",
     "output_type": "stream",
     "text": [
      "비밀번호를 입력하세요abcd\n",
      "사용자 비밀번호 = abcd\n",
      "암호화된 비밀번호 = ϊϔϞϨ\n",
      "원상복구된 비밀번호 = abcd\n"
     ]
    }
   ],
   "source": [
    "# 암호화\n",
    "\n",
    "user_pw = input(\"비밀번호를 입력하세요\")\n",
    "new_pw = \"\"\n",
    "return_pw = \"\"\n",
    "\n",
    "for i in user_pw:\n",
    "    new_pw += chr(ord(i)*10)\n",
    "    \n",
    "\n",
    "print(f\"사용자 비밀번호 = {user_pw}\")\n",
    "print(f\"암호화된 비밀번호 = {new_pw}\")\n",
    "\n",
    "\n",
    "# 복호화\n",
    "for i in new_pw:\n",
    "    return_pw += chr(ord(i)//10)\n",
    "print(f\"원상복구된 비밀번호 = {return_pw}\")    "
   ]
  },
  {
   "cell_type": "code",
   "execution_count": 8,
   "id": "661226ee",
   "metadata": {},
   "outputs": [
    {
     "data": {
      "text/plain": [
       "10"
      ]
     },
     "execution_count": 8,
     "metadata": {},
     "output_type": "execute_result"
    }
   ],
   "source": [
    "# 비트연산자(&)\n",
    "10&11"
   ]
  },
  {
   "cell_type": "code",
   "execution_count": 9,
   "id": "2ed60970",
   "metadata": {},
   "outputs": [
    {
     "data": {
      "text/plain": [
       "11"
      ]
     },
     "execution_count": 9,
     "metadata": {},
     "output_type": "execute_result"
    }
   ],
   "source": [
    "# 비트연산자(|)\n",
    "10|11"
   ]
  },
  {
   "cell_type": "code",
   "execution_count": 10,
   "id": "7e4cc49d",
   "metadata": {},
   "outputs": [
    {
     "data": {
      "text/plain": [
       "1"
      ]
     },
     "execution_count": 10,
     "metadata": {},
     "output_type": "execute_result"
    }
   ],
   "source": [
    "# 비트연산자(^)\n",
    "10^11"
   ]
  },
  {
   "cell_type": "code",
   "execution_count": 11,
   "id": "d1d70d87",
   "metadata": {},
   "outputs": [
    {
     "data": {
      "text/plain": [
       "-11"
      ]
     },
     "execution_count": 11,
     "metadata": {},
     "output_type": "execute_result"
    }
   ],
   "source": [
    "# 비트연산자(~)\n",
    "~10"
   ]
  },
  {
   "cell_type": "code",
   "execution_count": 12,
   "id": "ec065ccc",
   "metadata": {},
   "outputs": [
    {
     "data": {
      "text/plain": [
       "20"
      ]
     },
     "execution_count": 12,
     "metadata": {},
     "output_type": "execute_result"
    }
   ],
   "source": [
    "# 쉬프트연산자(좌쉬프트)\n",
    "10<<1"
   ]
  },
  {
   "cell_type": "code",
   "execution_count": 13,
   "id": "88a9451b",
   "metadata": {
    "scrolled": true
   },
   "outputs": [
    {
     "data": {
      "text/plain": [
       "5"
      ]
     },
     "execution_count": 13,
     "metadata": {},
     "output_type": "execute_result"
    }
   ],
   "source": [
    "# 쉬프트연산자(우쉬프트)\n",
    "10>>1"
   ]
  },
  {
   "cell_type": "code",
   "execution_count": 21,
   "id": "5a309c50",
   "metadata": {},
   "outputs": [
    {
     "name": "stdout",
     "output_type": "stream",
     "text": [
      "3.140000\n"
     ]
    }
   ],
   "source": [
    "print(\"실수는 6자리까지 밖에 안나와요 %f\" %(3.14))"
   ]
  },
  {
   "cell_type": "code",
   "execution_count": 16,
   "id": "30805502",
   "metadata": {},
   "outputs": [
    {
     "name": "stdout",
     "output_type": "stream",
     "text": [
      "False\n"
     ]
    }
   ],
   "source": [
    "print(0.1 + 0.2 == 0.3)"
   ]
  },
  {
   "cell_type": "code",
   "execution_count": 17,
   "id": "9cd9ebfa",
   "metadata": {},
   "outputs": [
    {
     "data": {
      "text/plain": [
       "True"
      ]
     },
     "execution_count": 17,
     "metadata": {},
     "output_type": "execute_result"
    }
   ],
   "source": [
    "import math\n",
    "\n",
    "math.isclose(0.1+0.2, 0.3)"
   ]
  },
  {
   "cell_type": "code",
   "execution_count": 19,
   "id": "cbac7592",
   "metadata": {},
   "outputs": [
    {
     "name": "stdout",
     "output_type": "stream",
     "text": [
      "0.3\n"
     ]
    }
   ],
   "source": [
    "from decimal import Decimal\n",
    "\n",
    "print(float(Decimal('0.1') + Decimal('0.2')))"
   ]
  },
  {
   "cell_type": "code",
   "execution_count": 20,
   "id": "479ccbe8",
   "metadata": {
    "scrolled": true
   },
   "outputs": [
    {
     "name": "stdout",
     "output_type": "stream",
     "text": [
      "더하기 = 15\n",
      "빼기 = 5\n",
      "곱하기 = 50\n",
      "나누기 = 2.0\n",
      "거듭제곱 = 100000\n",
      "몫 = 2\n",
      "나머지 = 0\n"
     ]
    }
   ],
   "source": [
    "# 산술 연산자\n",
    "\n",
    "num1 = 10\n",
    "num2 = 5\n",
    "\n",
    "add_result = num1 + num2\n",
    "sub_result = num1 - num2\n",
    "mul_result = num1 * num2\n",
    "div_result = num1 / num2\n",
    "pow_result = num1 ** num2\n",
    "quo_result = num1 // num2\n",
    "rem_result = num1 % num2\n",
    "\n",
    "\n",
    "print(f\"더하기 = {add_result}\")\n",
    "print(f\"빼기 = {sub_result}\")\n",
    "print(f\"곱하기 = {mul_result}\")\n",
    "print(f\"나누기 = {div_result}\")\n",
    "print(f\"거듭제곱 = {pow_result}\")\n",
    "print(f\"몫 = {quo_result}\")\n",
    "print(f\"나머지 = {rem_result}\")"
   ]
  },
  {
   "cell_type": "code",
   "execution_count": 22,
   "id": "3d6a900d",
   "metadata": {},
   "outputs": [
    {
     "name": "stdout",
     "output_type": "stream",
     "text": [
      "오늘은 몇일인가요?17\n",
      "파이썬 수업을 시작한지 8일째 입니다\n"
     ]
    }
   ],
   "source": [
    "# 사용자로부터 오늘 날짜를 입력받고 파이썬 수업을 시작한 지 몇일째인지 계산\n",
    "start_day = 10\n",
    "\n",
    "# today(사용자로부터 오늘날짜를 입력받고 저장) \n",
    "# 출력하실때는 f스트링을 사용해서 출력 \n",
    "\n",
    "# today = input()\n",
    "\n",
    "today = int(input(\"오늘은 몇일인가요?\"))\n",
    "day = (today - start_day) + 1\n",
    "print(f\"파이썬 수업을 시작한지 {day}일째 입니다\")\n"
   ]
  },
  {
   "cell_type": "code",
   "execution_count": 23,
   "id": "b8f35f3b",
   "metadata": {},
   "outputs": [
    {
     "name": "stdout",
     "output_type": "stream",
     "text": [
      "True\n",
      "<class 'bool'>\n",
      "False\n",
      "<class 'bool'>\n"
     ]
    }
   ],
   "source": [
    "# 참과 거짓(조건식)\n",
    "\n",
    "ex_true = True\n",
    "ex_false = False\n",
    "\n",
    "print(ex_true)\n",
    "print(type(ex_true))\n",
    "\n",
    "print(ex_false)\n",
    "print(type(ex_false))\n"
   ]
  },
  {
   "cell_type": "code",
   "execution_count": 26,
   "id": "2dd47929",
   "metadata": {},
   "outputs": [
    {
     "name": "stdout",
     "output_type": "stream",
     "text": [
      "True\n",
      "False\n",
      "False\n",
      "False\n",
      "True\n",
      "True\n"
     ]
    }
   ],
   "source": [
    "# 관계연산자\n",
    "\n",
    "print(1 == 1)\n",
    "print(1 != 1)\n",
    "print(1 > 1)\n",
    "print(1 < 1)\n",
    "print(1 >= 1)\n",
    "print(1 <= 1)"
   ]
  },
  {
   "cell_type": "code",
   "execution_count": 27,
   "id": "0a3bc4d4",
   "metadata": {},
   "outputs": [
    {
     "name": "stdout",
     "output_type": "stream",
     "text": [
      "True\n"
     ]
    }
   ],
   "source": [
    "# 관계연산자2\n",
    "\n",
    "result = (1 == 1)\n",
    "print(result)"
   ]
  },
  {
   "cell_type": "code",
   "execution_count": 28,
   "id": "1ff91ff2",
   "metadata": {},
   "outputs": [
    {
     "name": "stdout",
     "output_type": "stream",
     "text": [
      "False\n"
     ]
    }
   ],
   "source": [
    "# 관계연산자 간단 실습\n",
    "start_day = 10\n",
    "today = 17\n",
    "# result 라는 변수에다가 start_day 변수값과 today 변수값이 일치하는지 물어보고\n",
    "# 그 결과를 출력해주세요(result 출력)\n",
    "\n",
    "\n",
    "result = start_day == today\n",
    "print(result)"
   ]
  },
  {
   "cell_type": "code",
   "execution_count": 33,
   "id": "2f17804b",
   "metadata": {},
   "outputs": [
    {
     "name": "stdout",
     "output_type": "stream",
     "text": [
      "True\n",
      "False\n",
      "True\n",
      "True\n"
     ]
    }
   ],
   "source": [
    "# 논리 연산자\n",
    "# 1이랑 1이 같고 그리고 2랑 2가 같니?\n",
    "result = 1 == 1 and 2 == 2\n",
    "print(result)\n",
    "\n",
    "# 1이랑 1이 같고 그리고 2랑 2가 같지 않니?\n",
    "result = 1 == 1 and 2 != 2\n",
    "print(result)\n",
    "\n",
    "# 1이랑 1이 같거나 또는 2랑 2가 같니?\n",
    "result = 1 == 1 or 2 == 2\n",
    "print(result)\n",
    "\n",
    "# 1이랑 1이 같거나 또는 2랑 2가 같지 않니?\n",
    "result = 1 == 1 or 2 != 2\n",
    "print(result)"
   ]
  },
  {
   "cell_type": "code",
   "execution_count": 35,
   "id": "5ec9726e",
   "metadata": {},
   "outputs": [
    {
     "name": "stdout",
     "output_type": "stream",
     "text": [
      "미성년자입니다\n"
     ]
    }
   ],
   "source": [
    "# 삼항 연산자\n",
    "age = 10\n",
    "result = \"성인입니다\" if age >= 20 else \"미성년자입니다\"\n",
    "print(result)\n"
   ]
  },
  {
   "cell_type": "code",
   "execution_count": 36,
   "id": "fdca056b",
   "metadata": {},
   "outputs": [
    {
     "name": "stdout",
     "output_type": "stream",
     "text": [
      "일치합니다\n"
     ]
    }
   ],
   "source": [
    "# 삼항 연산자 실습\n",
    "# result 변수에  start_day가 10과 일치하는지 물어보고 그 결과가 참일 경우\n",
    "# 일치합니다 거짓일 경우 불일치합니다 라고 result를 출력\n",
    "\n",
    "start_day = 10\n",
    "\n",
    "result = \"일치합니다\" if start_day == 10 else \"불일치합니다\"\n",
    "print(result)"
   ]
  },
  {
   "cell_type": "code",
   "execution_count": null,
   "id": "1c16cc5e",
   "metadata": {},
   "outputs": [],
   "source": []
  },
  {
   "cell_type": "code",
   "execution_count": null,
   "id": "02dad69f",
   "metadata": {},
   "outputs": [],
   "source": []
  }
 ],
 "metadata": {
  "kernelspec": {
   "display_name": "Python 3",
   "language": "python",
   "name": "python3"
  },
  "language_info": {
   "codemirror_mode": {
    "name": "ipython",
    "version": 3
   },
   "file_extension": ".py",
   "mimetype": "text/x-python",
   "name": "python",
   "nbconvert_exporter": "python",
   "pygments_lexer": "ipython3",
   "version": "3.9.6"
  }
 },
 "nbformat": 4,
 "nbformat_minor": 5
}
