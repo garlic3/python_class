{
 "cells": [
  {
   "cell_type": "code",
   "execution_count": 2,
   "id": "d0a5111a",
   "metadata": {},
   "outputs": [],
   "source": [
    "# 파일 입출력\n",
    "# 파일 출력(write)\n",
    "file = open(\"hello.txt\", \"wt\")\n",
    "file.write(\"안녕하세요\\n\")\n",
    "file.write(\"hello\\n\")\n",
    "file.write(\"비가 많이 옵니다\")\n",
    "file.close()"
   ]
  },
  {
   "cell_type": "code",
   "execution_count": 3,
   "id": "7e009b35",
   "metadata": {},
   "outputs": [],
   "source": [
    "# 파일 출력(append)\n",
    "file = open(\"hello.txt\", \"at\")\n",
    "file.write(\"오늘은 마지막 강의입니다\\n\")\n",
    "file.write(\"안녕하세요\")\n",
    "file.close()"
   ]
  },
  {
   "cell_type": "code",
   "execution_count": 4,
   "id": "c1ab98cc",
   "metadata": {},
   "outputs": [],
   "source": [
    "# 파일 출력(write과 append의 차이)\n",
    "file = open(\"hello.txt\", \"wt\")\n",
    "file.write(\"이번에는 write모드 사용입니다\\n\")\n",
    "file.write(\"안녕하세요\")\n",
    "file.close()"
   ]
  },
  {
   "cell_type": "code",
   "execution_count": 5,
   "id": "89d0299a",
   "metadata": {},
   "outputs": [
    {
     "ename": "FileExistsError",
     "evalue": "[Errno 17] File exists: 'hello.txt'",
     "output_type": "error",
     "traceback": [
      "\u001b[1;31m---------------------------------------------------------------------------\u001b[0m",
      "\u001b[1;31mFileExistsError\u001b[0m                           Traceback (most recent call last)",
      "\u001b[1;32m<ipython-input-5-8671be22fd80>\u001b[0m in \u001b[0;36m<module>\u001b[1;34m\u001b[0m\n\u001b[0;32m      1\u001b[0m \u001b[1;31m# 파일 출력(exclusive)\u001b[0m\u001b[1;33m\u001b[0m\u001b[1;33m\u001b[0m\u001b[1;33m\u001b[0m\u001b[0m\n\u001b[1;32m----> 2\u001b[1;33m \u001b[0mfile\u001b[0m \u001b[1;33m=\u001b[0m \u001b[0mopen\u001b[0m\u001b[1;33m(\u001b[0m\u001b[1;34m\"hello.txt\"\u001b[0m\u001b[1;33m,\u001b[0m \u001b[1;34m\"xt\"\u001b[0m\u001b[1;33m)\u001b[0m\u001b[1;33m\u001b[0m\u001b[1;33m\u001b[0m\u001b[0m\n\u001b[0m\u001b[0;32m      3\u001b[0m \u001b[0mfile\u001b[0m\u001b[1;33m.\u001b[0m\u001b[0mwrite\u001b[0m\u001b[1;33m(\u001b[0m\u001b[1;34m\"이번에는 exclusive 모드 사용입니다\\n\"\u001b[0m\u001b[1;33m)\u001b[0m\u001b[1;33m\u001b[0m\u001b[1;33m\u001b[0m\u001b[0m\n\u001b[0;32m      4\u001b[0m \u001b[0mfile\u001b[0m\u001b[1;33m.\u001b[0m\u001b[0mclose\u001b[0m\u001b[1;33m(\u001b[0m\u001b[1;33m)\u001b[0m\u001b[1;33m\u001b[0m\u001b[1;33m\u001b[0m\u001b[0m\n",
      "\u001b[1;31mFileExistsError\u001b[0m: [Errno 17] File exists: 'hello.txt'"
     ]
    }
   ],
   "source": [
    "# 파일 출력(exclusive)\n",
    "file = open(\"hello.txt\", \"xt\")\n",
    "file.write(\"이번에는 exclusive 모드 사용입니다\\n\")\n",
    "file.close()"
   ]
  },
  {
   "cell_type": "code",
   "execution_count": 6,
   "id": "7eaee108",
   "metadata": {},
   "outputs": [],
   "source": [
    "# 파일 출력(exclusive)\n",
    "file = open(\"hello2.txt\", \"xt\")\n",
    "file.write(\"이번에는 exclusive 모드 사용입니다\\n\")\n",
    "file.write(\"hello\")\n",
    "file.close()"
   ]
  },
  {
   "cell_type": "code",
   "execution_count": 7,
   "id": "1468cfa2",
   "metadata": {},
   "outputs": [
    {
     "name": "stdout",
     "output_type": "stream",
     "text": [
      "이번에는 write모드 사용입니다\n",
      "안녕하세요\n"
     ]
    }
   ],
   "source": [
    "# 파일 입력()\n",
    "# read() 메소드\n",
    "file = open(\"hello.txt\", \"rt\")\n",
    "read_str = file.read()\n",
    "print(read_str)\n",
    "file.close()"
   ]
  },
  {
   "cell_type": "code",
   "execution_count": 8,
   "id": "0ccd596b",
   "metadata": {},
   "outputs": [
    {
     "name": "stdout",
     "output_type": "stream",
     "text": [
      "이번에는 \n"
     ]
    }
   ],
   "source": [
    "# read() 메소드 나누어서 읽을 경우\n",
    "file = open(\"hello.txt\", \"rt\")\n",
    "read_str = file.read(5)\n",
    "print(read_str)\n",
    "file.close()"
   ]
  },
  {
   "cell_type": "code",
   "execution_count": 9,
   "id": "aedd2e28",
   "metadata": {
    "scrolled": true
   },
   "outputs": [
    {
     "name": "stdout",
     "output_type": "stream",
     "text": [
      "이번에는 \n",
      "write\n",
      "모드 사용\n",
      "입니다\n",
      "안\n",
      "녕하세요\n",
      "\n"
     ]
    }
   ],
   "source": [
    "# read() 메소드 일부를 나눠서 읽을 경우\n",
    "file = open(\"hello.txt\", \"rt\")\n",
    "while True:\n",
    "    read_str = file.read(5)\n",
    "    print(read_str)\n",
    "    if read_str == \"\":\n",
    "        break\n",
    "file.close()"
   ]
  },
  {
   "cell_type": "code",
   "execution_count": 11,
   "id": "d0ea8282",
   "metadata": {},
   "outputs": [
    {
     "name": "stdout",
     "output_type": "stream",
     "text": [
      "이번에는 write모드 사용입니다\n",
      "\n"
     ]
    }
   ],
   "source": [
    "# readline() 메소드\n",
    "file = open(\"hello.txt\", \"rt\")\n",
    "read_str = file.readline()\n",
    "print(read_str)\n",
    "file.close()"
   ]
  },
  {
   "cell_type": "code",
   "execution_count": 13,
   "id": "fccbc78b",
   "metadata": {},
   "outputs": [
    {
     "name": "stdout",
     "output_type": "stream",
     "text": [
      "이번에는 write모드 사용입니다\n",
      "안녕하세요"
     ]
    }
   ],
   "source": [
    "# readline() 메소드 반복문 사용\n",
    "file = open(\"hello.txt\", \"rt\")\n",
    "while True:\n",
    "    read_str = file.readline()\n",
    "    print(read_str, end=\"\")\n",
    "    if read_str == \"\":\n",
    "        break\n",
    "        \n",
    "file.close()        "
   ]
  },
  {
   "cell_type": "code",
   "execution_count": 19,
   "id": "3ca1b786",
   "metadata": {},
   "outputs": [
    {
     "name": "stdout",
     "output_type": "stream",
     "text": [
      "['이번에는 write모드 사용입니다\\n', '안녕하세요']\n",
      "이번에는 write모드 사용입니다\n",
      "안녕하세요"
     ]
    }
   ],
   "source": [
    "# readlines() 메소드 \n",
    "file = open(\"hello.txt\", \"rt\")\n",
    "line_list = file.readlines()\n",
    "print(line_list)\n",
    "\n",
    "for i in line_list:\n",
    "    print(i, end=\"\")"
   ]
  },
  {
   "cell_type": "code",
   "execution_count": 23,
   "id": "37736c91",
   "metadata": {},
   "outputs": [
    {
     "name": "stdout",
     "output_type": "stream",
     "text": [
      "['이번에는 write모드 사용입니다\\n']\n"
     ]
    }
   ],
   "source": [
    "# readlines(size) 메소드\n",
    "file = open(\"hello.txt\", \"rt\")\n",
    "line_list = file.readlines(18)\n",
    "print(line_list)"
   ]
  },
  {
   "cell_type": "code",
   "execution_count": 25,
   "id": "8d4286d0",
   "metadata": {},
   "outputs": [],
   "source": [
    "# encoding\n",
    "file = open(\"hello3.txt\", \"wt\", encoding=\"cp949\")\n",
    "file.write(\"인코딩 테스트\")\n",
    "file.close()"
   ]
  },
  {
   "cell_type": "code",
   "execution_count": 27,
   "id": "da5f8ea5",
   "metadata": {},
   "outputs": [
    {
     "data": {
      "text/plain": [
       "'인코딩 테스트'"
      ]
     },
     "execution_count": 27,
     "metadata": {},
     "output_type": "execute_result"
    }
   ],
   "source": [
    "# file = open(\"hello3.txt\", \"rt\", encoding=\"utf-8\")\n",
    "# file.read()\n",
    "\n",
    "file = open(\"hello3.txt\", \"rt\", encoding=\"cp949\")\n",
    "file.read()"
   ]
  },
  {
   "cell_type": "code",
   "execution_count": 3,
   "id": "47851411",
   "metadata": {},
   "outputs": [
    {
     "name": "stdout",
     "output_type": "stream",
     "text": [
      "21\n"
     ]
    }
   ],
   "source": [
    "# 파일 입출력 예제\n",
    "# count() -> 문자열.count(찾는요소) 해당 문자열에 요소가 몇개 있는지 반환\n",
    "# 주어진 파일에서 \"짝\" 이라는 문자열이 몇개 있는지 구하기\n",
    "\n",
    "file = open(\"file_test.txt\", \"rt\", encoding=\"utf-8\")\n",
    "count = 0\n",
    "while True:\n",
    "    read_str = file.readline()\n",
    "    if read_str.count(\"짝\"):\n",
    "        count += read_str.count(\"짝\")\n",
    "    elif read_str == \"\":\n",
    "        break\n",
    "file.close()        \n",
    "print(count)"
   ]
  },
  {
   "cell_type": "code",
   "execution_count": 7,
   "id": "759e17c9",
   "metadata": {},
   "outputs": [],
   "source": [
    "# csv 파일\n",
    "\n",
    "import csv\n",
    "\n",
    "file = open(\"csv_test1.csv\", \"wt\", newline=\"\")\n",
    "csv_writer = csv.writer(file, delimiter=\"/\")\n",
    "csv_writer.writerow([1, \"a\", \"aa\"])\n",
    "csv_writer.writerow([2, \"b\", \"bb\"])\n",
    "csv_writer.writerow([3, \"c\", \"cc\"])\n",
    "file.close()\n"
   ]
  },
  {
   "cell_type": "code",
   "execution_count": 12,
   "id": "4ac44ba6",
   "metadata": {},
   "outputs": [
    {
     "name": "stdout",
     "output_type": "stream",
     "text": [
      "['1', 'a', 'aa']\n",
      "['2', 'b', 'bb']\n",
      "['3', 'c', 'cc']\n",
      "['1/a/aa']\n",
      "['2/b/bb']\n",
      "['3/c/cc']\n"
     ]
    }
   ],
   "source": [
    "file = open(\"csv_test1.csv\", \"rt\")\n",
    "csv_reader = csv.reader(file, delimiter=\"/\")\n",
    "for i in csv_reader:\n",
    "    print(i)\n",
    "\n",
    "file = open(\"csv_test1.csv\", \"rt\")\n",
    "csv_reader = csv.reader(file, delimiter=\",\")\n",
    "for i in csv_reader:\n",
    "    print(i)"
   ]
  },
  {
   "cell_type": "code",
   "execution_count": 15,
   "id": "ea3ff540",
   "metadata": {},
   "outputs": [],
   "source": [
    "# 파일 입출력 예제\n",
    "subway = ['2호선', '역삼역', '9호선', '김포공항역', '8호선', '잠실역', '4호선', '동작역']\n",
    "\n",
    "# 2호선-역삼역\n",
    "# 9호선-김포공항역\n",
    "# 8호선-잠실역\n",
    "# 4호선-동작역\n",
    "\n",
    "# 파일을 생성하는 코드 작성하기 \n",
    "# 인덱스 번호의 규칙성을 이용(짝수, 홀수)\n",
    "\n",
    "file = open(\"ex01.txt\", \"wt\")\n",
    "for i in range(len(subway)):\n",
    "    if i % 2 == 0:\n",
    "        file.write(f\"{subway[i]}-{subway[i+1]}\\n\")\n",
    "file.close()\n",
    "\n",
    "# file = open(\"ex01.txt\", \"rt\")\n",
    "# while True:\n",
    "#     read_str = file.readline()\n",
    "#     print(read_str)\n",
    "#     if read_str == \"\":\n",
    "#         break\n",
    "# file.close()\n"
   ]
  }
 ],
 "metadata": {
  "kernelspec": {
   "display_name": "Python 3",
   "language": "python",
   "name": "python3"
  },
  "language_info": {
   "codemirror_mode": {
    "name": "ipython",
    "version": 3
   },
   "file_extension": ".py",
   "mimetype": "text/x-python",
   "name": "python",
   "nbconvert_exporter": "python",
   "pygments_lexer": "ipython3",
   "version": "3.9.6"
  }
 },
 "nbformat": 4,
 "nbformat_minor": 5
}
