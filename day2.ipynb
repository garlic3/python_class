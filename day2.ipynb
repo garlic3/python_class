{
 "cells": [
  {
   "cell_type": "code",
   "execution_count": null,
   "id": "35bc5446",
   "metadata": {},
   "outputs": [],
   "source": []
  },
  {
   "cell_type": "code",
   "execution_count": null,
   "id": "e962936a",
   "metadata": {},
   "outputs": [],
   "source": [
    "# 단축키\n",
    "# ctrl + (+/-) = 화면 확대 및 축소\n",
    "# ctrl + / = 주석 설정 및 해제 \n",
    "\n",
    "# 셀을 선택하고 esc를 누르면 커맨드 모드로 변경\n",
    "# 셀을 선택하고 enter를 누르면 코드 편집 모드로 변경\n",
    "\n",
    "# 커맨드 모드 => 셀을 편집 및 추가\n",
    "# 코드 편집 모드 => 코드 작성 및 수정\n",
    "\n",
    "# ctrl + s => 저장\n",
    "# ctrl + enter => 해당 셀 실행"
   ]
  },
  {
   "cell_type": "code",
   "execution_count": 2,
   "id": "8fbf56d6",
   "metadata": {},
   "outputs": [
    {
     "name": "stdout",
     "output_type": "stream",
     "text": [
      "서민성\n"
     ]
    }
   ],
   "source": [
    "a = \"서민성\"\n",
    "print(a)"
   ]
  },
  {
   "cell_type": "code",
   "execution_count": 3,
   "id": "f793d646",
   "metadata": {
    "scrolled": true
   },
   "outputs": [
    {
     "ename": "NameError",
     "evalue": "name 'b' is not defined",
     "output_type": "error",
     "traceback": [
      "\u001b[1;31m---------------------------------------------------------------------------\u001b[0m",
      "\u001b[1;31mNameError\u001b[0m                                 Traceback (most recent call last)",
      "\u001b[1;32m<ipython-input-3-57b9d6c11786>\u001b[0m in \u001b[0;36m<module>\u001b[1;34m\u001b[0m\n\u001b[1;32m----> 1\u001b[1;33m \u001b[0mb\u001b[0m\u001b[1;33m\u001b[0m\u001b[1;33m\u001b[0m\u001b[0m\n\u001b[0m\u001b[0;32m      2\u001b[0m \u001b[0mprint\u001b[0m\u001b[1;33m(\u001b[0m\u001b[0mb\u001b[0m\u001b[1;33m)\u001b[0m\u001b[1;33m\u001b[0m\u001b[1;33m\u001b[0m\u001b[0m\n",
      "\u001b[1;31mNameError\u001b[0m: name 'b' is not defined"
     ]
    }
   ],
   "source": [
    "b\n",
    "print(b)"
   ]
  },
  {
   "cell_type": "code",
   "execution_count": 5,
   "id": "9aebe99c",
   "metadata": {},
   "outputs": [
    {
     "name": "stdout",
     "output_type": "stream",
     "text": [
      "<class 'str'>\n",
      "<class 'int'>\n",
      "<class 'float'>\n",
      "<class 'bool'>\n"
     ]
    }
   ],
   "source": [
    "a = \"서민성\"\n",
    "b = 1\n",
    "c = 3.14\n",
    "d = True\n",
    "\n",
    "# type() -> 자료형을 확인하는 함수\n",
    "\n",
    "print(type(a))\n",
    "print(type(b))\n",
    "print(type(c))\n",
    "print(type(d))\n"
   ]
  },
  {
   "cell_type": "code",
   "execution_count": 8,
   "id": "cac964f8",
   "metadata": {},
   "outputs": [
    {
     "name": "stdout",
     "output_type": "stream",
     "text": [
      "서민성\n",
      "<class 'str'>\n",
      "3.14\n",
      "<class 'float'>\n"
     ]
    }
   ],
   "source": [
    "# 동적 타이핑 \n",
    "\n",
    "x = \"서민성\"\n",
    "\n",
    "print(\"hello\")\n",
    "# 변수의 선언(초기화)\n",
    "x = \"서민성\"\n",
    "print(x)\n",
    "print(type(x))\n",
    "\n",
    "# 변수에 대입\n",
    "x = 3.14\n",
    "print(x)\n",
    "print(type(x))\n",
    "\n",
    "\n"
   ]
  },
  {
   "cell_type": "code",
   "execution_count": null,
   "id": "544c09eb",
   "metadata": {},
   "outputs": [],
   "source": [
    "# 실습 1.\n",
    "\n",
    "x = \"서민성\"\n",
    "y = 0.0\n",
    "z = True\n",
    "x = 13.4\n",
    "y = False\n",
    "z = 3\n"
   ]
  },
  {
   "cell_type": "code",
   "execution_count": 9,
   "id": "af0de384",
   "metadata": {},
   "outputs": [
    {
     "name": "stdout",
     "output_type": "stream",
     "text": [
      "<class 'float'>\n",
      "<class 'int'>\n",
      "<class 'str'>\n",
      "<class 'bool'>\n"
     ]
    }
   ],
   "source": [
    "# 키(float), 태어난 달(int), 이름(str), 대면출석여부(bool)\n",
    "# 변수로 만들어서 출력\n",
    "\n",
    "\n",
    "height = 172.0\n",
    "month = 4\n",
    "name = \"서민성\"\n",
    "attendance = True\n",
    "\n",
    "print(type(height))\n",
    "print(type(month))\n",
    "print(type(name))\n",
    "print(type(attendance))"
   ]
  },
  {
   "cell_type": "code",
   "execution_count": 13,
   "id": "8b87b259",
   "metadata": {},
   "outputs": [
    {
     "name": "stdout",
     "output_type": "stream",
     "text": [
      "서민성\n",
      "안녕하세요\n",
      "서민성\t안녕하세요\n",
      "서민성'안녕하세요'\n",
      "서민성\"안녕하세요\"\n",
      "서민성'안녕하세요'\n",
      "서민성\"안녕하세요\"\n"
     ]
    }
   ],
   "source": [
    "print(\"서민성\\n안녕하세요\")\n",
    "print(\"서민성\\t안녕하세요\")\n",
    "print(\"서민성\\'안녕하세요\\'\")\n",
    "print(\"서민성\\\"안녕하세요\\\"\")\n",
    "\n",
    "print(\"서민성'안녕하세요'\")\n",
    "print('서민성\"안녕하세요\"')\n"
   ]
  },
  {
   "cell_type": "code",
   "execution_count": 16,
   "id": "f785e334",
   "metadata": {},
   "outputs": [
    {
     "name": "stdout",
     "output_type": "stream",
     "text": [
      "2022년\n",
      "8월\n",
      "12일\n",
      "금요일\n",
      "h강의장\n",
      "서민성\n",
      "금요일\n"
     ]
    }
   ],
   "source": [
    "# 실습\n",
    "# \"2022년 8월 12일 금요일 h강의장\"\n",
    "# print() 함수를 1번만 사용\n",
    "\n",
    "# 2022년\n",
    "# 8월\n",
    "# 12일\n",
    "# 금요일\n",
    "# h강의장\n",
    "\n",
    "print(\"2022년\\n8월\\n12일\\n금요일\\nh강의장\")\n"
   ]
  },
  {
   "cell_type": "code",
   "execution_count": 23,
   "id": "34b9fd1e",
   "metadata": {
    "scrolled": true
   },
   "outputs": [
    {
     "name": "stdout",
     "output_type": "stream",
     "text": [
      "서민성\n",
      "2022년\n"
     ]
    }
   ],
   "source": [
    "# print(\"서민성\", end=\"hello\")\n",
    "print(\"서민성\", end=\"\")\n",
    "print(\"서민성\", end=\"\\n\")\n",
    "print(\"2022년\")"
   ]
  },
  {
   "cell_type": "code",
   "execution_count": 36,
   "id": "ddbb9eca",
   "metadata": {},
   "outputs": [
    {
     "name": "stdout",
     "output_type": "stream",
     "text": [
      "올해 가을은 비가 많이 오네요\n"
     ]
    }
   ],
   "source": [
    "season = \"가을\"\n",
    "# 올해 여름은 비가 많이오네요\n",
    "\n",
    "print(\"올해\", season + \"은 비가 많이 오네요\")\n"
   ]
  },
  {
   "cell_type": "code",
   "execution_count": 41,
   "id": "22cb6140",
   "metadata": {},
   "outputs": [
    {
     "name": "stdout",
     "output_type": "stream",
     "text": [
      "올해 여름는 비가 많이오네요\n",
      "올해 여름는 비가 많이오네요\n"
     ]
    }
   ],
   "source": [
    "# 값을 직접 대입\n",
    "print(\"올해 %s는 비가 많이오네요\" %(\"여름\"))\n",
    "\n",
    "# 변수를 대입\n",
    "season = \"여름\"\n",
    "print(\"올해 %s는 비가 많이오네요\" %(season))\n"
   ]
  },
  {
   "cell_type": "code",
   "execution_count": 42,
   "id": "68528497",
   "metadata": {},
   "outputs": [
    {
     "name": "stdout",
     "output_type": "stream",
     "text": [
      "이번 로또 당첨금액은 2원 입니다\n",
      "이번 로또 당첨금액은      2원 입니다\n",
      "이번 로또 당첨금액은 000002원 입니다\n"
     ]
    }
   ],
   "source": [
    "# 정수를 대입\n",
    "print(\"이번 로또 당첨금액은 %d원 입니다\" %(2))\n",
    "print(\"이번 로또 당첨금액은 %6d원 입니다\" %(2))\n",
    "print(\"이번 로또 당첨금액은 %06d원 입니다\" %(2))\n"
   ]
  },
  {
   "cell_type": "code",
   "execution_count": 43,
   "id": "9c223c99",
   "metadata": {},
   "outputs": [
    {
     "name": "stdout",
     "output_type": "stream",
     "text": [
      "이번 로또 당첨금액은 2원 입니다 그리고 당첨자는 3명입니다\n"
     ]
    }
   ],
   "source": [
    "# 여러개를 대입\n",
    "print(\"이번 로또 당첨금액은 %d원 입니다 그리고 당첨자는 %d명입니다\" %(2, 3))"
   ]
  },
  {
   "cell_type": "code",
   "execution_count": 45,
   "id": "f936c508",
   "metadata": {},
   "outputs": [
    {
     "name": "stdout",
     "output_type": "stream",
     "text": [
      "파이는 3.140000 입니다\n",
      "파이는 3.14 입니다\n"
     ]
    }
   ],
   "source": [
    "# 실수를 대입(기본이 소수점 여섯번째자리까지)\n",
    "print(\"파이는 %f 입니다\" %(3.14))\n",
    "print(\"파이는 %0.2f 입니다\" %(3.14))"
   ]
  },
  {
   "cell_type": "code",
   "execution_count": 46,
   "id": "cd0101d4",
   "metadata": {},
   "outputs": [
    {
     "name": "stdout",
     "output_type": "stream",
     "text": [
      "오늘 날씨는 맑음 입니다\n"
     ]
    }
   ],
   "source": [
    "# format()함수 \n",
    "# 값을 직접 대입\n",
    "\n",
    "print(\"오늘 날씨는 {} 입니다\".format(\"맑음\"))"
   ]
  },
  {
   "cell_type": "code",
   "execution_count": 47,
   "id": "82f5b313",
   "metadata": {},
   "outputs": [
    {
     "name": "stdout",
     "output_type": "stream",
     "text": [
      "오늘 날씨는 맑음 입니다\n"
     ]
    }
   ],
   "source": [
    "# 변수를 대입\n",
    "weather = \"맑음\"\n",
    "print(\"오늘 날씨는 {} 입니다\".format(weather))"
   ]
  },
  {
   "cell_type": "code",
   "execution_count": 48,
   "id": "50111509",
   "metadata": {},
   "outputs": [
    {
     "name": "stdout",
     "output_type": "stream",
     "text": [
      "오늘 날씨는 맑음 입니다. 계절은 summer 이고 8월 입니다\n"
     ]
    }
   ],
   "source": [
    "# 여러개를 대입\n",
    "weather = \"맑음\"\n",
    "month = 8\n",
    "season = \"summer\"\n",
    "\n",
    "print(\"오늘 날씨는 {} 입니다. 계절은 {} 이고 {}월 입니다\".format(weather, season, month))"
   ]
  },
  {
   "cell_type": "code",
   "execution_count": 49,
   "id": "9c27dd93",
   "metadata": {},
   "outputs": [
    {
     "name": "stdout",
     "output_type": "stream",
     "text": [
      "오늘 날씨는 흐림 입니다. 계절은 여름입니다\n"
     ]
    }
   ],
   "source": [
    "# 이름(키워드)로 대입\n",
    "print(\"오늘 날씨는 {weather} 입니다. 계절은 {season}입니다\".format(season=\"여름\", weather=\"흐림\"))"
   ]
  },
  {
   "cell_type": "code",
   "execution_count": 51,
   "id": "6e7cfbba",
   "metadata": {},
   "outputs": [
    {
     "name": "stdout",
     "output_type": "stream",
     "text": [
      "오늘의 점심메뉴는 초밥 입니다\n",
      "초밥 가격은 10000입니다\n",
      "오늘의 점심메뉴는 {menu}입니다\n"
     ]
    }
   ],
   "source": [
    "# f-string\n",
    "\n",
    "menu = \"초밥\"\n",
    "price = 10000\n",
    "\n",
    "print(f\"오늘의 점심메뉴는 {menu} 입니다\")\n",
    "print(f\"{menu} 가격은 {price}입니다\")\n",
    "\n",
    "print(\"오늘의 점심메뉴는 {menu}입니다\")"
   ]
  },
  {
   "cell_type": "code",
   "execution_count": null,
   "id": "cb2e8bc5",
   "metadata": {},
   "outputs": [],
   "source": [
    "# name = input(\"당신의 이름은 무엇인가요?\")\n",
    "# print(name)"
   ]
  },
  {
   "cell_type": "code",
   "execution_count": 2,
   "id": "00936068",
   "metadata": {},
   "outputs": [
    {
     "name": "stdout",
     "output_type": "stream",
     "text": [
      "당신의 나이는 몇살인가요?10\n"
     ]
    },
    {
     "ename": "TypeError",
     "evalue": "unsupported operand type(s) for -: 'int' and 'str'",
     "output_type": "error",
     "traceback": [
      "\u001b[1;31m---------------------------------------------------------------------------\u001b[0m",
      "\u001b[1;31mTypeError\u001b[0m                                 Traceback (most recent call last)",
      "\u001b[1;32m<ipython-input-2-0786f52f90e7>\u001b[0m in \u001b[0;36m<module>\u001b[1;34m\u001b[0m\n\u001b[0;32m      3\u001b[0m \u001b[0mage2\u001b[0m \u001b[1;33m=\u001b[0m \u001b[1;36m30\u001b[0m\u001b[1;33m\u001b[0m\u001b[1;33m\u001b[0m\u001b[0m\n\u001b[0;32m      4\u001b[0m \u001b[1;33m\u001b[0m\u001b[0m\n\u001b[1;32m----> 5\u001b[1;33m \u001b[0mprint\u001b[0m\u001b[1;33m(\u001b[0m\u001b[0mage2\u001b[0m \u001b[1;33m-\u001b[0m \u001b[0mage\u001b[0m\u001b[1;33m)\u001b[0m\u001b[1;33m\u001b[0m\u001b[1;33m\u001b[0m\u001b[0m\n\u001b[0m",
      "\u001b[1;31mTypeError\u001b[0m: unsupported operand type(s) for -: 'int' and 'str'"
     ]
    }
   ],
   "source": [
    "age = input(\"당신의 나이는 몇살인가요?\")\n",
    "\n",
    "age2 = 30\n",
    "\n",
    "print(age2 - age)"
   ]
  },
  {
   "cell_type": "code",
   "execution_count": 4,
   "id": "377c7ef0",
   "metadata": {},
   "outputs": [
    {
     "name": "stdout",
     "output_type": "stream",
     "text": [
      "4.0\n",
      "6\n"
     ]
    }
   ],
   "source": [
    "# 자동 형변환\n",
    "print(3 + 1.0)\n",
    "print(3 + 3)"
   ]
  },
  {
   "cell_type": "code",
   "execution_count": 10,
   "id": "8cccdd98",
   "metadata": {},
   "outputs": [
    {
     "name": "stdout",
     "output_type": "stream",
     "text": [
      "<class 'int'>\n",
      "<class 'float'>\n"
     ]
    }
   ],
   "source": [
    "# 강제 형변환\n",
    "\n",
    "# print(int(\"3\"))\n",
    "# print(type(int(\"3\")))\n",
    "\n",
    "# print(int(3.14))\n",
    "# print(type(int(3.14)))\n",
    "\n",
    "print(type(3))\n",
    "print(type(float(3)))"
   ]
  },
  {
   "cell_type": "code",
   "execution_count": null,
   "id": "0afffe10",
   "metadata": {},
   "outputs": [],
   "source": []
  },
  {
   "cell_type": "code",
   "execution_count": null,
   "id": "236cd7af",
   "metadata": {},
   "outputs": [],
   "source": []
  },
  {
   "cell_type": "code",
   "execution_count": null,
   "id": "a4d68a80",
   "metadata": {},
   "outputs": [],
   "source": []
  }
 ],
 "metadata": {
  "kernelspec": {
   "display_name": "Python 3",
   "language": "python",
   "name": "python3"
  },
  "language_info": {
   "codemirror_mode": {
    "name": "ipython",
    "version": 3
   },
   "file_extension": ".py",
   "mimetype": "text/x-python",
   "name": "python",
   "nbconvert_exporter": "python",
   "pygments_lexer": "ipython3",
   "version": "3.9.6"
  }
 },
 "nbformat": 4,
 "nbformat_minor": 5
}
