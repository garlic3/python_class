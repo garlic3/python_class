{
 "cells": [
  {
   "cell_type": "code",
   "execution_count": null,
   "id": "b757d697",
   "metadata": {},
   "outputs": [],
   "source": [
    "def test_module():\n",
    "    print(\"모듈 import 성공!\")\n",
    "\n",
    "m_var = 10\n",
    "\n",
    "\n",
    "# num = 10\n",
    "# num = [1,2,3,4,5]\n",
    "num = 0\n",
    "num1 = 2\n",
    "\n",
    "input(f\"{num} {num1}is num\")"
   ]
  }
 ],
 "metadata": {
  "kernelspec": {
   "display_name": "Python 3",
   "language": "python",
   "name": "python3"
  },
  "language_info": {
   "codemirror_mode": {
    "name": "ipython",
    "version": 3
   },
   "file_extension": ".py",
   "mimetype": "text/x-python",
   "name": "python",
   "nbconvert_exporter": "python",
   "pygments_lexer": "ipython3",
   "version": "3.9.6"
  }
 },
 "nbformat": 4,
 "nbformat_minor": 5
}
