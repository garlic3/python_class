{
 "cells": [
  {
   "cell_type": "code",
   "execution_count": 1,
   "id": "3caf881e",
   "metadata": {},
   "outputs": [
    {
     "name": "stdout",
     "output_type": "stream",
     "text": [
      "[6, 17, 45, 28, 20, 39]\n"
     ]
    }
   ],
   "source": [
    "# 로또 문제\n",
    "# 함수를 최소한 2개 이상\n",
    "# 사용자로부터 숫자 6개 입력받음(user_num) ->  리스트\n",
    "# 1~45까지 중에서 랜덤한 숫자 6개가 로또 당첨번호(lotto_num) -> 리스트\n",
    "# 6개 번호중에 전부 일치하면 1등\n",
    "# 1개라도 틀리면 꽝\n",
    "# 중복 번호는 존재하지 않음\n",
    "# randint() -> 정해준 범위내에서 랜덤 정수 1개 \n",
    "\n",
    "import random\n",
    "\n",
    "# 로또 번호 정하는 함수 1개\n",
    "def make_lotto():\n",
    "    lotto = []\n",
    "    count = 0\n",
    "    \n",
    "    while count != 6:\n",
    "        num = random.randint(1,45)\n",
    "        if num not in lotto:\n",
    "            lotto.append(num)\n",
    "            count += 1\n",
    "    print(lotto)        \n",
    "    return lotto       \n",
    "    \n",
    "\n",
    "# 사용자한테 로또 번호 고르게 하는 함수 1개\n",
    "\n",
    "def buy_lotto():\n",
    "#     count = 0\n",
    "#     user_lotto = []\n",
    "#     while count != 6:\n",
    "#         num = int(input(\"1부터 45사이의 정수를 입력하세요\"))\n",
    "#         if num not in user_lotto:\n",
    "#             user_lotto.append(num)\n",
    "#             count += 1\n",
    "#         else:\n",
    "#             print(\"이미 입력한 숫자입니다\")\n",
    "\n",
    "\n",
    "#    반복적인 코드 실행 (6회 정도) \n",
    "#    번호를 뽑는 코드\n",
    "#    리스트에 번호를 담는 코드\n",
    "\n",
    "    return user_lotto\n",
    "\n",
    "            \n",
    "# 사용자의 당첨여부 알려주는 함수 1개\n",
    "def check_lotto(user_lotto, lotto):\n",
    "#     return \"1등 당첨! 축하드립니다\" if user_lotto == lotto else \"꽝입니다\"\n",
    "#     user_lotto 랑 lotto가 리스트일 때\n",
    "    count = 0\n",
    "    for i in user_lotto:\n",
    "        if i in lotto:\n",
    "            count +=1\n",
    "    return \"1등 당첨! 축하드립니다\" if count == 6 else \"꽝!\"\n",
    "\n",
    "\n",
    "lotto = make_lotto()\n",
    "# user_lotto = buy_lotto()\n",
    "# check_lotto(user_lotto,lotto)\n",
    "\n",
    "\n",
    "# 'A' in list\n",
    "# 'A' not in list\n"
   ]
  },
  {
   "cell_type": "code",
   "execution_count": 8,
   "id": "021a2916",
   "metadata": {},
   "outputs": [
    {
     "name": "stdout",
     "output_type": "stream",
     "text": [
      "<class '__main__.Book'>\n",
      "<class '__main__.School'>\n",
      "10\n",
      "30\n",
      "1\n",
      "4\n",
      "2\n",
      "1\n",
      "1\n"
     ]
    }
   ],
   "source": [
    "# 클래스\n",
    "\n",
    "class Book:\n",
    "    pass\n",
    "\n",
    "print(Book)\n",
    "\n",
    "class School:\n",
    "    desk = 10\n",
    "    student = 30\n",
    "    teacher = 1\n",
    "\n",
    "\n",
    "print(School)\n",
    "print(School.desk)\n",
    "print(School.student)\n",
    "print(School.teacher)\n",
    "\n",
    "# 클래스 예제\n",
    "# animal 이름으로 클래스 1개 만들기\n",
    "# 다리가 4개, 눈 2개, 목 1개, 머리 1개 \n",
    "\n",
    "# 각각의 필드를 출력하는것까지\n",
    "\n",
    "class Animal:\n",
    "    leg = 4\n",
    "    eye = 2\n",
    "    neck = 1\n",
    "    head = 1\n",
    "    \n",
    "print(Animal.leg)\n",
    "print(Animal.eye)\n",
    "print(Animal.neck)\n",
    "print(Animal.head)\n"
   ]
  },
  {
   "cell_type": "code",
   "execution_count": 11,
   "id": "8221fe49",
   "metadata": {},
   "outputs": [
    {
     "name": "stdout",
     "output_type": "stream",
     "text": [
      "hello\n",
      "안녕하세요\n"
     ]
    }
   ],
   "source": [
    "# 클래스 메서드\n",
    "\n",
    "class Greeting:\n",
    "    def print_hello():\n",
    "        print(\"hello\")\n",
    "        \n",
    "Greeting.print_hello()\n",
    "# print_hello()\n",
    "\n",
    "# 클래스 예제\n",
    "class Hello:\n",
    "    def print_hello():\n",
    "        print(\"안녕하세요\")\n",
    "# Hello 클래스 안에 안녕하세요 라고 출력하는 메소드를 구현\n",
    "# 만든 메소드를 실행(호출)\n",
    "\n",
    "Hello.print_hello()"
   ]
  },
  {
   "cell_type": "code",
   "execution_count": 18,
   "id": "2133cb3d",
   "metadata": {
    "scrolled": true
   },
   "outputs": [
    {
     "name": "stdout",
     "output_type": "stream",
     "text": [
      "4\n",
      "1\n",
      "4\n",
      "1\n"
     ]
    }
   ],
   "source": [
    "class Car:\n",
    "    wheel = 4\n",
    "    handle = 1\n",
    "    \n",
    "    @classmethod \n",
    "    def turn_on(self):\n",
    "        \"시동 킴\"\n",
    "        \n",
    "    @classmethod     \n",
    "    def turn_off(self): \n",
    "        \"시동 끔\"\n",
    "        \n",
    "        \n",
    "my_car = Car()\n",
    "mom_car = Car()\n",
    "dad_car = Car()\n",
    "\n",
    "# 자동차 클래스\n",
    "# my_car 객체\n",
    "\n",
    "\n",
    "print(my_car.wheel)\n",
    "print(my_car.handle)\n",
    "\n",
    "print(mom_car.wheel)\n",
    "print(mom_car.handle)\n",
    "# print(type(my_car))\n",
    "# print(my_car)\n",
    "\n",
    "# print(my_car.turn_on())\n",
    "# print(my_car.turn_off())"
   ]
  },
  {
   "cell_type": "code",
   "execution_count": null,
   "id": "921e46aa",
   "metadata": {},
   "outputs": [],
   "source": [
    "# 생성자 "
   ]
  },
  {
   "cell_type": "code",
   "execution_count": null,
   "id": "aaf1e9c5",
   "metadata": {},
   "outputs": [],
   "source": []
  },
  {
   "cell_type": "code",
   "execution_count": null,
   "id": "70c7d61e",
   "metadata": {},
   "outputs": [],
   "source": []
  },
  {
   "cell_type": "code",
   "execution_count": null,
   "id": "1bf639d5",
   "metadata": {},
   "outputs": [],
   "source": []
  },
  {
   "cell_type": "code",
   "execution_count": null,
   "id": "de8ea6ae",
   "metadata": {},
   "outputs": [],
   "source": []
  },
  {
   "cell_type": "code",
   "execution_count": null,
   "id": "55001c6a",
   "metadata": {},
   "outputs": [],
   "source": []
  },
  {
   "cell_type": "code",
   "execution_count": null,
   "id": "04772de6",
   "metadata": {},
   "outputs": [],
   "source": []
  },
  {
   "cell_type": "code",
   "execution_count": null,
   "id": "97299afe",
   "metadata": {},
   "outputs": [],
   "source": []
  },
  {
   "cell_type": "code",
   "execution_count": null,
   "id": "e6e38109",
   "metadata": {},
   "outputs": [],
   "source": []
  },
  {
   "cell_type": "code",
   "execution_count": null,
   "id": "3ac68b81",
   "metadata": {},
   "outputs": [],
   "source": []
  }
 ],
 "metadata": {
  "kernelspec": {
   "display_name": "Python 3",
   "language": "python",
   "name": "python3"
  },
  "language_info": {
   "codemirror_mode": {
    "name": "ipython",
    "version": 3
   },
   "file_extension": ".py",
   "mimetype": "text/x-python",
   "name": "python",
   "nbconvert_exporter": "python",
   "pygments_lexer": "ipython3",
   "version": "3.9.6"
  }
 },
 "nbformat": 4,
 "nbformat_minor": 5
}
