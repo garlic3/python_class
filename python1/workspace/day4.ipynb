{
 "cells": [
  {
   "cell_type": "code",
   "execution_count": 20,
   "id": "46f2ebd7",
   "metadata": {},
   "outputs": [
    {
     "data": {
      "text/plain": [
       "0"
      ]
     },
     "execution_count": 20,
     "metadata": {},
     "output_type": "execute_result"
    }
   ],
   "source": [
    "# 단항 연산자\n",
    "\n",
    "+5 + -5\n",
    "\n",
    "# 단항연산자\n",
    "# 산술연산자\n",
    "# 최우선연산자"
   ]
  },
  {
   "cell_type": "code",
   "execution_count": 4,
   "id": "8c20326a",
   "metadata": {},
   "outputs": [
    {
     "name": "stdout",
     "output_type": "stream",
     "text": [
      "1\n",
      "2\n",
      "0\n"
     ]
    }
   ],
   "source": [
    "# 복합 대입 연산자\n",
    "\n",
    "count = 0\n",
    "\n",
    "count = count + 1\n",
    "print(count)\n",
    "\n",
    "count += 1\n",
    "print(count)\n",
    "\n",
    "count -= 2\n",
    "print(count)\n"
   ]
  },
  {
   "cell_type": "code",
   "execution_count": 9,
   "id": "0cf21e6a",
   "metadata": {},
   "outputs": [
    {
     "name": "stdout",
     "output_type": "stream",
     "text": [
      "helloworld\n",
      "hell0hell0\n",
      "helloworld\n",
      "hellohello\n"
     ]
    }
   ],
   "source": [
    "# str(문자열) 타입 산술 연산\n",
    "\n",
    "# + (더하기)\n",
    "print(\"hello\" + \"world\")\n",
    "\n",
    "# * (곱하기)\n",
    "msg = \"hell0\"\n",
    "print(msg * 2)\n",
    "\n",
    "# 복합 대입 연산자 사용\n",
    "\n",
    "msg = \"hello\"\n",
    "msg += \"world\"\n",
    "print(msg)\n",
    "\n",
    "msg = \"hello\"\n",
    "msg *= 2\n",
    "print(msg)\n"
   ]
  },
  {
   "cell_type": "code",
   "execution_count": 17,
   "id": "09dbacd9",
   "metadata": {},
   "outputs": [
    {
     "name": "stdout",
     "output_type": "stream",
     "text": [
      "2\n",
      "<class 'int'>\n",
      "1\n",
      "0\n",
      "1\n",
      "2\n",
      "10.0\n"
     ]
    }
   ],
   "source": [
    "# bool 타입 연산 \n",
    "\n",
    "result = True + True\n",
    "print(result)\n",
    "\n",
    "print(type(result))\n",
    "\n",
    "print(int(True))\n",
    "print(int(False))\n",
    "\n",
    "result = False + True\n",
    "print(result)\n",
    "\n",
    "# 곱하기\n",
    "result = True * 2\n",
    "print(result)\n",
    "\n",
    "# 나누기\n",
    "result = 10 / True\n",
    "print(result)"
   ]
  },
  {
   "cell_type": "code",
   "execution_count": 19,
   "id": "6d68c445",
   "metadata": {},
   "outputs": [
    {
     "name": "stdout",
     "output_type": "stream",
     "text": [
      "True\n"
     ]
    }
   ],
   "source": [
    "result = 1 == 1 and 2 == 2\n",
    "print(result)"
   ]
  },
  {
   "cell_type": "code",
   "execution_count": 22,
   "id": "1f301e08",
   "metadata": {},
   "outputs": [
    {
     "name": "stdout",
     "output_type": "stream",
     "text": [
      "0보다 큰 100이하의 정수를 입력하세요20\n",
      "짝수\n"
     ]
    }
   ],
   "source": [
    "# 삼항연산자 복습\n",
    "# 홀수 짝수 판별하기\n",
    "# 조건식 num % 2 == 0 -> True 이면 짝수 False 이면 홀수\n",
    "num = int(input(\"0보다 큰 100이하의 정수를 입력하세요\"))\n",
    "even_num = (num%2 == 0)\n",
    "\n",
    "# result = \"짝수\" if num%2 == 0 else \"홀수\" \n",
    "result = \"짝수\" if even_num else \"홀수\"\n",
    "print(result)"
   ]
  },
  {
   "cell_type": "code",
   "execution_count": 24,
   "id": "bd069fcf",
   "metadata": {},
   "outputs": [
    {
     "name": "stdout",
     "output_type": "stream",
     "text": [
      "30이하의 정수를 입력하세요30\n",
      "입력한 숫자보다 작습니다\n"
     ]
    }
   ],
   "source": [
    "# 삼항연산자 여러개\n",
    "answer = 20\n",
    "user_answer = int(input(\"30이하의 정수를 입력하세요\"))\n",
    "result = ((\"정답\" if answer == user_answer else \"입력한 숫자보다 큽니다\" \n",
    "           if answer > user_answer else \"입력한 숫자보다 작습니다\"))\n",
    "print(result)"
   ]
  },
  {
   "cell_type": "code",
   "execution_count": 26,
   "id": "c20bc546",
   "metadata": {},
   "outputs": [
    {
     "name": "stdout",
     "output_type": "stream",
     "text": [
      "30이하의 정수를 입력하세요20\n",
      "정답\n"
     ]
    }
   ],
   "source": [
    "# if문 연습\n",
    "answer = 20\n",
    "user_answer = int(input(\"30이하의 정수를 입력하세요\"))\n",
    "if user_answer == answer:\n",
    "    print(\"정답\")\n",
    "elif user_answer > answer:\n",
    "    print(\"입력한 값보다 작습니다\")\n",
    "else:\n",
    "    print(\"입력한 값보다 큽니다\")"
   ]
  },
  {
   "cell_type": "code",
   "execution_count": 27,
   "id": "cd9eb90c",
   "metadata": {},
   "outputs": [
    {
     "name": "stdout",
     "output_type": "stream",
     "text": [
      "30이하의 정수를 입력하세요20\n",
      "정답\n"
     ]
    }
   ],
   "source": [
    "# if문 연습(변수를 사용)\n",
    "answer = 20\n",
    "user_answer = int(input(\"30이하의 정수를 입력하세요\"))\n",
    "\n",
    "if user_answer == answer:\n",
    "    result =\"정답\"\n",
    "elif user_answer > answer:\n",
    "    result =\"입력한 값보다 작습니다\"\n",
    "else:\n",
    "    result =\"입력한 값보다 큽니다\"\n",
    "    \n",
    "print(result)"
   ]
  },
  {
   "cell_type": "code",
   "execution_count": null,
   "id": "68aa9633",
   "metadata": {},
   "outputs": [],
   "source": [
    "# else 사용이유 \n",
    "num = 5\n",
    "answer = int(input(\"숫자 맞춰보기! 0보다 큰 10 이하의 정수를 입력하세요\"))\n",
    "\n",
    "# if answer == 1\n",
    "# if answer == 2\n",
    "# ...\n",
    "\n",
    "if answer == 5:\n",
    "    print(\"정답\")\n",
    "else:\n",
    "    print(\"오답!\")\n",
    "    "
   ]
  },
  {
   "cell_type": "code",
   "execution_count": 32,
   "id": "41360c6a",
   "metadata": {},
   "outputs": [
    {
     "name": "stdout",
     "output_type": "stream",
     "text": [
      "수를 입력하세요10\n",
      "양수\n"
     ]
    }
   ],
   "source": [
    "# elif 사용이유\n",
    "num = int(input(\"수를 입력하세요\"))\n",
    "\n",
    "if num > 0:\n",
    "    result = \"양수\"\n",
    "elif num == 0:\n",
    "    result = \"0\"\n",
    "else:\n",
    "    result = \"음수\"\n",
    "    \n",
    "print(result)    "
   ]
  },
  {
   "cell_type": "code",
   "execution_count": 33,
   "id": "57570125",
   "metadata": {},
   "outputs": [
    {
     "name": "stdout",
     "output_type": "stream",
     "text": [
      "노래 점수를 입력해주세요100\n",
      "당신은 가수입니다\n"
     ]
    }
   ],
   "source": [
    "# if문 실습\n",
    "\n",
    "# 사용자로부터 노래 점수를 입력받습니다\n",
    "# 사용자는 100점을 넘은 점수를 입력하지 않음\n",
    "# 0 ~ 50 => '가수에는 소질이 없습니다'\n",
    "# 51 ~ 70 => '조금 더 연습하세요'\n",
    "# 71 ~ 90 => '남들보다 노래를 잘부릅니다'\n",
    "# 91 ~ 99 => '가수만큼 잘하십니다'\n",
    "# 100 => '당신은 가수입니다'\n",
    "\n",
    "score = int(input(\"노래 점수를 입력해주세요\"))\n",
    "\n",
    "# score -> 0~50\n",
    "# score -> 51~70\n",
    "# score -> 71~90\n",
    "# score -> 91~99\n",
    "# score -> 100\n",
    "\n",
    "# 조건식이 5개\n",
    "\n",
    "if score == 100:\n",
    "    result = \"당신은 가수입니다\"\n",
    "elif score > 90:\n",
    "    result = \"가수만큼 잘하십니다\"\n",
    "elif score > 70:\n",
    "    result = \"남들보다 노래를 잘부릅니다\"\n",
    "elif score > 50:\n",
    "    result = \"조금 더 연습하세요\"\n",
    "else:\n",
    "    result = \"가수에는 소질이 없습니다\"\n",
    "    \n",
    "print(result)\n"
   ]
  },
  {
   "cell_type": "code",
   "execution_count": 34,
   "id": "63a75ac2",
   "metadata": {},
   "outputs": [
    {
     "name": "stdout",
     "output_type": "stream",
     "text": [
      "서민성\n",
      "서민성\n",
      "서민성\n",
      "서민성\n",
      "서민성\n"
     ]
    }
   ],
   "source": [
    "print(\"서민성\")\n",
    "print(\"서민성\")\n",
    "print(\"서민성\")\n",
    "print(\"서민성\")\n",
    "print(\"서민성\")"
   ]
  },
  {
   "cell_type": "code",
   "execution_count": 35,
   "id": "b9bf9221",
   "metadata": {},
   "outputs": [
    {
     "name": "stdout",
     "output_type": "stream",
     "text": [
      "서민성\n",
      "서민성\n",
      "서민성\n",
      "서민성\n",
      "서민성\n"
     ]
    }
   ],
   "source": [
    "for i in range(1, 6, 1):\n",
    "    print(\"서민성\")    "
   ]
  },
  {
   "cell_type": "code",
   "execution_count": 40,
   "id": "7744389b",
   "metadata": {},
   "outputs": [
    {
     "name": "stdout",
     "output_type": "stream",
     "text": [
      "1 = 서민성\n",
      "2 = 서민성\n",
      "3 = 서민성\n",
      "4 = 서민성\n",
      "5 = 서민성\n"
     ]
    }
   ],
   "source": [
    "for i in range(1, 6, 1):\n",
    "    print(f\"{i} = 서민성\")"
   ]
  },
  {
   "cell_type": "code",
   "execution_count": 43,
   "id": "3b92ea7f",
   "metadata": {},
   "outputs": [
    {
     "name": "stdout",
     "output_type": "stream",
     "text": [
      "5 = 서민성\n",
      "4 = 서민성\n",
      "3 = 서민성\n",
      "2 = 서민성\n",
      "1 = 서민성\n"
     ]
    }
   ],
   "source": [
    "for i in range(5, 0, -1):\n",
    "     print(f\"{i} = 서민성\")    "
   ]
  },
  {
   "cell_type": "code",
   "execution_count": 44,
   "id": "ffe9e58f",
   "metadata": {},
   "outputs": [
    {
     "name": "stdout",
     "output_type": "stream",
     "text": [
      "1 = 서민성\n",
      "2 = 서민성\n",
      "3 = 서민성\n",
      "4 = 서민성\n",
      "5 = 서민성\n",
      "6 = 서민성\n",
      "7 = 서민성\n",
      "8 = 서민성\n",
      "9 = 서민성\n",
      "10 = 서민성\n"
     ]
    }
   ],
   "source": [
    "# for문 예제\n",
    "# 여러분의 이름을 1부터 10까지 증가시켜서 출력시키기\n",
    "# 몇번 출력했는지 같이 나오게 \n",
    "for i in range(1, 11, 1):\n",
    "    print(f\"{i} = 서민성\")"
   ]
  },
  {
   "cell_type": "code",
   "execution_count": 48,
   "id": "75e4d6e1",
   "metadata": {},
   "outputs": [
    {
     "name": "stdout",
     "output_type": "stream",
     "text": [
      "1\n",
      "1 = 서민성\n",
      "2\n",
      "2 = 서민성\n",
      "3\n",
      "3 = 서민성\n",
      "4\n",
      "4 = 서민성\n",
      "5\n",
      "5 = 서민성\n"
     ]
    }
   ],
   "source": [
    "# for i in range(1, 6, 1):\n",
    "#     print(\"서민성\") \n",
    "\n",
    "# for i in range(5):\n",
    "#     print(\"서민성\")\n",
    "#     print(i)\n",
    "\n",
    "# f-string {} 정수형 타입은 산술연산이 가능\n",
    "\n",
    "for i in range(5):\n",
    "    num = i + 1\n",
    "    print(num)\n",
    "    print(f\"{i+1} = 서민성\")"
   ]
  },
  {
   "cell_type": "code",
   "execution_count": 49,
   "id": "ad9dba31",
   "metadata": {},
   "outputs": [
    {
     "name": "stdout",
     "output_type": "stream",
     "text": [
      "1\n",
      "3\n",
      "5\n",
      "7\n",
      "9\n"
     ]
    }
   ],
   "source": [
    "# for문 증감값\n",
    "\n",
    "for i in range(1, 11, 2):\n",
    "    print(i)\n",
    "        "
   ]
  },
  {
   "cell_type": "code",
   "execution_count": 54,
   "id": "62ebe1fe",
   "metadata": {},
   "outputs": [
    {
     "name": "stdout",
     "output_type": "stream",
     "text": [
      "0\n",
      "1\n",
      "2\n"
     ]
    }
   ],
   "source": [
    "for i in range(5):\n",
    "    if i == 3:\n",
    "        break\n",
    "    print(i)\n",
    "    "
   ]
  },
  {
   "cell_type": "code",
   "execution_count": 56,
   "id": "5aa76139",
   "metadata": {},
   "outputs": [
    {
     "name": "stdout",
     "output_type": "stream",
     "text": [
      "0\n",
      "1\n",
      "2\n",
      "3\n",
      "4\n"
     ]
    }
   ],
   "source": [
    "for i in range(5):\n",
    "    print(i) \n",
    "    if i == 3:\n",
    "        continue\n",
    "#     print(i)    "
   ]
  },
  {
   "cell_type": "code",
   "execution_count": 57,
   "id": "9873b91a",
   "metadata": {},
   "outputs": [
    {
     "name": "stdout",
     "output_type": "stream",
     "text": [
      "i = 0 j = 0\n",
      "i = 0 j = 1\n",
      "i = 0 j = 2\n",
      "i = 1 j = 0\n",
      "i = 1 j = 1\n",
      "i = 1 j = 2\n",
      "i = 2 j = 0\n",
      "i = 2 j = 1\n",
      "i = 2 j = 2\n"
     ]
    }
   ],
   "source": [
    "for i in range(3):\n",
    "    for j in range(3):\n",
    "        print(f\"i = {i} j = {j}\")"
   ]
  },
  {
   "cell_type": "code",
   "execution_count": null,
   "id": "25386885",
   "metadata": {},
   "outputs": [],
   "source": []
  },
  {
   "cell_type": "code",
   "execution_count": null,
   "id": "d877ffca",
   "metadata": {},
   "outputs": [],
   "source": []
  },
  {
   "cell_type": "code",
   "execution_count": null,
   "id": "2065fcae",
   "metadata": {},
   "outputs": [],
   "source": []
  },
  {
   "cell_type": "code",
   "execution_count": null,
   "id": "d6e61b5e",
   "metadata": {},
   "outputs": [],
   "source": []
  }
 ],
 "metadata": {
  "kernelspec": {
   "display_name": "Python 3",
   "language": "python",
   "name": "python3"
  },
  "language_info": {
   "codemirror_mode": {
    "name": "ipython",
    "version": 3
   },
   "file_extension": ".py",
   "mimetype": "text/x-python",
   "name": "python",
   "nbconvert_exporter": "python",
   "pygments_lexer": "ipython3",
   "version": "3.9.6"
  }
 },
 "nbformat": 4,
 "nbformat_minor": 5
}
