{
 "cells": [
  {
   "cell_type": "code",
   "execution_count": null,
   "id": "86a05161",
   "metadata": {},
   "outputs": [],
   "source": [
    "# 함수 예제(매개변수 o, 리턴값 o)\n",
    "# 매개변수 2개 \n",
    "# 빼기 함수 1개\n",
    "# 나누기 함수 1개 \n",
    "# 곱하기 함수 1개\n",
    "# 나머지 구하는 함수 1개 \n",
    "# 산술연산자\n",
    "\n",
    "# def 함수명(매개변수):\n",
    "#     실행할 코드\n",
    "#     return 리턴값\n",
    "\n",
    "\n",
    "def sum(num1, num2):\n",
    "#     result = num1 + num2\n",
    "#     return result\n",
    "  return num1 + num2\n",
    "\n",
    "def sub(num1, num2):\n",
    "    result = num1 - num2\n",
    "    return result\n",
    "\n",
    "def mul(num1, num2):\n",
    "    result = num1 * num2\n",
    "    return result\n",
    "\n",
    "def div(num1, num2):\n",
    "    result = num1 / num2\n",
    "    return result\n",
    "\n",
    "def rem(num1, num2):\n",
    "    result = num1 % num2\n",
    "    return result\n",
    "\n"
   ]
  },
  {
   "cell_type": "code",
   "execution_count": 3,
   "id": "647291df",
   "metadata": {},
   "outputs": [
    {
     "name": "stdout",
     "output_type": "stream",
     "text": [
      "abc\n",
      "가나다\n",
      "123\n",
      "('abc', '가나다', 123)\n"
     ]
    }
   ],
   "source": [
    "# 다중 반환\n",
    "\n",
    "def get_returns():\n",
    "    return \"abc\", \"가나다\", 123\n",
    "\n",
    "\n",
    "def sum(num1, num2):\n",
    "    return num1+num2\n",
    "\n",
    "eng, kor, num = get_returns()\n",
    "print(eng)\n",
    "print(kor)\n",
    "print(num)\n",
    "\n",
    "result = get_returns()\n",
    "print(result)\n"
   ]
  },
  {
   "cell_type": "code",
   "execution_count": 6,
   "id": "a954bab7",
   "metadata": {},
   "outputs": [
    {
     "name": "stdout",
     "output_type": "stream",
     "text": [
      "(12, 4, 32, 2.0, 0)\n",
      "12\n",
      "4\n",
      "32\n",
      "2.0\n",
      "0\n"
     ]
    },
    {
     "ename": "TypeError",
     "evalue": "cal() missing 1 required positional argument: 'num2'",
     "output_type": "error",
     "traceback": [
      "\u001b[1;31m---------------------------------------------------------------------------\u001b[0m",
      "\u001b[1;31mTypeError\u001b[0m                                 Traceback (most recent call last)",
      "\u001b[1;32m<ipython-input-6-367c467d85aa>\u001b[0m in \u001b[0;36m<module>\u001b[1;34m\u001b[0m\n\u001b[0;32m     25\u001b[0m \u001b[1;33m\u001b[0m\u001b[0m\n\u001b[0;32m     26\u001b[0m \u001b[1;33m\u001b[0m\u001b[0m\n\u001b[1;32m---> 27\u001b[1;33m \u001b[0mcal\u001b[0m\u001b[1;33m(\u001b[0m\u001b[1;36m1\u001b[0m\u001b[1;33m)\u001b[0m\u001b[1;33m\u001b[0m\u001b[1;33m\u001b[0m\u001b[0m\n\u001b[0m",
      "\u001b[1;31mTypeError\u001b[0m: cal() missing 1 required positional argument: 'num2'"
     ]
    }
   ],
   "source": [
    "# 다중 반환 예제\n",
    "# 더하기, 빼기, 곱하기, 나누기, 나머지를 구하는 함수(1개)\n",
    "# 다중 반환 사용\n",
    "\n",
    "def cal(num1, num2):\n",
    "    sum_result = num1 + num2\n",
    "    sub_result = num1 - num2\n",
    "    mul_result = num1 * num2\n",
    "    div_result = num1 / num2\n",
    "    rem_result = num1 % num2\n",
    "    return sum_result,sub_result,mul_result, div_result,rem_result\n",
    "\n",
    "def cal1(num1, num2):\n",
    "    return num1+num2, num1-num2, num1*num2, num1/num2, num1%num2\n",
    "    \n",
    "result = cal(8,4)\n",
    "print(result)\n",
    "\n",
    "sum_result,sub_result,mul_result, div_result,rem_result = cal(8,4)\n",
    "print(sum_result)\n",
    "print(sub_result)\n",
    "print(mul_result)\n",
    "print(div_result)\n",
    "print(rem_result)\n",
    "\n"
   ]
  },
  {
   "cell_type": "code",
   "execution_count": 7,
   "id": "005a988a",
   "metadata": {},
   "outputs": [
    {
     "name": "stdout",
     "output_type": "stream",
     "text": [
      "hello\n",
      "hello\n",
      "hello\n",
      "hello\n",
      "hello\n"
     ]
    }
   ],
   "source": [
    "# 기본 매개변수\n",
    "\n",
    "def get_default(text, n=5):\n",
    "    for i in range(5):\n",
    "        print(text)\n",
    "\n",
    "get_default(\"hello\")        "
   ]
  },
  {
   "cell_type": "code",
   "execution_count": 10,
   "id": "de0164c9",
   "metadata": {
    "scrolled": true
   },
   "outputs": [
    {
     "name": "stdout",
     "output_type": "stream",
     "text": [
      "{'n': 3, 'text': 'test'}\n",
      "n\n",
      "text\n"
     ]
    }
   ],
   "source": [
    "# 가변 매개변수\n",
    "# *args\n",
    "# def get_many(*args):\n",
    "#     print(args)\n",
    "#     for i in args:\n",
    "#         print(i)\n",
    "        \n",
    "# get_many(\"hello\", \"test\", \"min\")\n",
    "\n",
    "# 키워드 가변 매개변수\n",
    "def get_keyword(**kwargs):\n",
    "    print(kwargs)\n",
    "    for i in kwargs:\n",
    "        print(i)\n",
    "        \n",
    "get_keyword(n=3, text=\"test\")        "
   ]
  },
  {
   "cell_type": "code",
   "execution_count": 16,
   "id": "16c711ae",
   "metadata": {},
   "outputs": [
    {
     "name": "stdout",
     "output_type": "stream",
     "text": [
      "{'min': 'min', 'hello': 'hello'}\n",
      "파이썬\n"
     ]
    }
   ],
   "source": [
    "# 일반 매개변수는 가변 매개변수 앞에서 사용\n",
    "\n",
    "# def get_many2(name, *args):\n",
    "#     print(args)\n",
    "#     print(name)\n",
    "\n",
    "def get_keyword2(name, **kwargs):\n",
    "    print(kwargs)\n",
    "    print(name)\n",
    "    \n",
    "# get_many2(\"min\", \"hello\", \"안녕하세요\", \"파이썬\")\n",
    "get_keyword2(min=\"min\", hello=\"hello\", name = \"파이썬\")"
   ]
  },
  {
   "cell_type": "code",
   "execution_count": 19,
   "id": "f51334c1",
   "metadata": {
    "scrolled": true
   },
   "outputs": [
    {
     "name": "stdout",
     "output_type": "stream",
     "text": [
      "['한국', '영국', '미국']\n",
      "['한국', '영국', '미국']\n"
     ]
    }
   ],
   "source": [
    "# 가변 매개변수 예제\n",
    "# 사용자에게 나라의 이름을 매개변수로 받아 리스트에 저장하고 그 리스트를 반환하는\n",
    "# get_country 함수를 만드세요\n",
    "# append() -> 리스트 마지막 인덱스에 추가\n",
    "# 형변환\n",
    "\n",
    "def get_country(*args):\n",
    "    c_list = []\n",
    "    for i in args:\n",
    "        c_list.append(i)\n",
    "    return c_list    \n",
    "    \n",
    "def get_country2(*args):\n",
    "    return list(args)\n",
    "\n",
    "print(get_country(\"한국\", \"영국\", \"미국\"))\n",
    "print(get_country2(\"한국\", \"영국\", \"미국\"))\n",
    "\n",
    "# 결과 ['한국', '영국', '미국']"
   ]
  },
  {
   "cell_type": "code",
   "execution_count": 25,
   "id": "f1eb0f88",
   "metadata": {},
   "outputs": [
    {
     "name": "stdout",
     "output_type": "stream",
     "text": [
      "30\n"
     ]
    }
   ],
   "source": [
    "# 지역변수 , 전역변수\n",
    "# def test():\n",
    "#     test_v = 10\n",
    "\n",
    "# print(test_v)    \n",
    "\n",
    "var = 20\n",
    "\n",
    "def test_var():\n",
    "#     var = 21\n",
    "#     print(var)\n",
    "\n",
    "    global var\n",
    "    var = 30\n",
    "    \n",
    "test_var()\n",
    "print(var)\n"
   ]
  },
  {
   "cell_type": "code",
   "execution_count": 30,
   "id": "c5d7ad74",
   "metadata": {
    "scrolled": true
   },
   "outputs": [
    {
     "name": "stdout",
     "output_type": "stream",
     "text": [
      "Requirement already satisfied: import_ipynb in c:\\python3102\\lib\\site-packages (0.1.4)\n",
      "Requirement already satisfied: nbformat in c:\\python3102\\lib\\site-packages (from import_ipynb) (5.4.0)\n",
      "Requirement already satisfied: IPython in c:\\python3102\\lib\\site-packages (from import_ipynb) (8.4.0)\n",
      "Requirement already satisfied: decorator in c:\\python3102\\lib\\site-packages (from IPython->import_ipynb) (5.1.1)\n",
      "Requirement already satisfied: pygments>=2.4.0 in c:\\python3102\\lib\\site-packages (from IPython->import_ipynb) (2.13.0)\n",
      "Requirement already satisfied: colorama in c:\\python3102\\lib\\site-packages (from IPython->import_ipynb) (0.4.5)\n",
      "Requirement already satisfied: pickleshare in c:\\python3102\\lib\\site-packages (from IPython->import_ipynb) (0.7.5)\n",
      "Requirement already satisfied: stack-data in c:\\python3102\\lib\\site-packages (from IPython->import_ipynb) (0.4.0)\n",
      "Requirement already satisfied: matplotlib-inline in c:\\python3102\\lib\\site-packages (from IPython->import_ipynb) (0.1.6)\n",
      "Requirement already satisfied: jedi>=0.16 in c:\\python3102\\lib\\site-packages (from IPython->import_ipynb) (0.18.1)\n",
      "Requirement already satisfied: traitlets>=5 in c:\\python3102\\lib\\site-packages (from IPython->import_ipynb) (5.3.0)\n",
      "Requirement already satisfied: backcall in c:\\python3102\\lib\\site-packages (from IPython->import_ipynb) (0.2.0)\n",
      "Requirement already satisfied: prompt-toolkit!=3.0.0,!=3.0.1,<3.1.0,>=2.0.0 in c:\\python3102\\lib\\site-packages (from IPython->import_ipynb) (3.0.30)\n",
      "Requirement already satisfied: setuptools>=18.5 in c:\\python3102\\lib\\site-packages (from IPython->import_ipynb) (58.1.0)\n",
      "Requirement already satisfied: jsonschema>=2.6 in c:\\python3102\\lib\\site-packages (from nbformat->import_ipynb) (4.14.0)\n",
      "Requirement already satisfied: jupyter-core in c:\\python3102\\lib\\site-packages (from nbformat->import_ipynb) (4.11.1)\n",
      "Requirement already satisfied: fastjsonschema in c:\\python3102\\lib\\site-packages (from nbformat->import_ipynb) (2.16.1)\n",
      "Requirement already satisfied: parso<0.9.0,>=0.8.0 in c:\\python3102\\lib\\site-packages (from jedi>=0.16->IPython->import_ipynb) (0.8.3)\n",
      "Requirement already satisfied: pyrsistent!=0.17.0,!=0.17.1,!=0.17.2,>=0.14.0 in c:\\python3102\\lib\\site-packages (from jsonschema>=2.6->nbformat->import_ipynb) (0.18.1)\n",
      "Requirement already satisfied: attrs>=17.4.0 in c:\\python3102\\lib\\site-packages (from jsonschema>=2.6->nbformat->import_ipynb) (22.1.0)\n",
      "Requirement already satisfied: wcwidth in c:\\python3102\\lib\\site-packages (from prompt-toolkit!=3.0.0,!=3.0.1,<3.1.0,>=2.0.0->IPython->import_ipynb) (0.2.5)\n",
      "Requirement already satisfied: pywin32>=1.0 in c:\\python3102\\lib\\site-packages (from jupyter-core->nbformat->import_ipynb) (304)\n",
      "Requirement already satisfied: pure-eval in c:\\python3102\\lib\\site-packages (from stack-data->IPython->import_ipynb) (0.2.2)\n",
      "Requirement already satisfied: asttokens in c:\\python3102\\lib\\site-packages (from stack-data->IPython->import_ipynb) (2.0.8)\n",
      "Requirement already satisfied: executing in c:\\python3102\\lib\\site-packages (from stack-data->IPython->import_ipynb) (0.10.0)\n",
      "Requirement already satisfied: six in c:\\python3102\\lib\\site-packages (from asttokens->stack-data->IPython->import_ipynb) (1.16.0)\n"
     ]
    },
    {
     "name": "stderr",
     "output_type": "stream",
     "text": [
      "WARNING: You are using pip version 22.0.4; however, version 22.2.2 is available.\n",
      "You should consider upgrading via the 'C:\\Python3102\\python.exe -m pip install --upgrade pip' command.\n"
     ]
    }
   ],
   "source": [
    "!pip install import_ipynb\n",
    "# import import_ipynb\n",
    "\n",
    "from m_test import test_module\n",
    "\n",
    "# test_module()"
   ]
  },
  {
   "cell_type": "code",
   "execution_count": 31,
   "id": "a34431d3",
   "metadata": {},
   "outputs": [],
   "source": [
    "# 로또 문제\n",
    "# 함수를 최소한 2개 이상\n",
    "# 사용자로부터 숫자 6개 입력받음(user_num) ->  리스트\n",
    "# 1~45까지 중에서 랜덤한 숫자 6개가 로또 당첨번호(lotto_num) -> 리스트\n",
    "# 6개 번호중에 전부 일치하면 1등\n",
    "# 1개라도 틀리면 꽝\n",
    "# 중복 번호는 존재하지 않음\n",
    "# randint() -> 정해준 범위내에서 랜덤 정수 1개 \n",
    "\n",
    "import random\n",
    "\n",
    "def make_lotto():\n",
    "    \n",
    "    \n",
    "\n",
    "# 로또 번호 정하는 함수 1개\n",
    "\n",
    "\n",
    "# 랜덤 숫자를 하나 만들기 (1 ~ 45)\n",
    "# 중복된 숫자 있는지 판별\n",
    "# 'A' in list\n",
    "# 'A' not in list\n",
    "# 중복되지 않았으면 리스트에 추가\n",
    "\n",
    "# count = 0\n",
    "# while count != 6:\n",
    "# 중복되지 않은 숫자일 경우에만 count += 1\n",
    "\n",
    "\n",
    "    \n",
    "# 사용자한테 로또 번호 고르게 하는 함수 1개\n",
    "\n",
    "\n",
    "\n",
    "# 사용자의 당첨여부 알려주는 함수 1개\n",
    "\n",
    "\n",
    "\n",
    "\n",
    "\n",
    "# lotto_num = make_lotto()\n",
    "# user_num = buy_lotto()\n",
    "\n",
    "# 'A' in list\n",
    "# 'A' not in list\n",
    "\n"
   ]
  },
  {
   "cell_type": "code",
   "execution_count": null,
   "id": "a6072143",
   "metadata": {},
   "outputs": [],
   "source": []
  },
  {
   "cell_type": "code",
   "execution_count": null,
   "id": "6a7a999d",
   "metadata": {},
   "outputs": [],
   "source": []
  },
  {
   "cell_type": "code",
   "execution_count": null,
   "id": "d47953bb",
   "metadata": {},
   "outputs": [],
   "source": []
  },
  {
   "cell_type": "code",
   "execution_count": null,
   "id": "fc389ac1",
   "metadata": {},
   "outputs": [],
   "source": []
  },
  {
   "cell_type": "code",
   "execution_count": null,
   "id": "4f411a44",
   "metadata": {},
   "outputs": [],
   "source": []
  },
  {
   "cell_type": "code",
   "execution_count": null,
   "id": "344f5a83",
   "metadata": {},
   "outputs": [],
   "source": []
  },
  {
   "cell_type": "code",
   "execution_count": null,
   "id": "b094be54",
   "metadata": {},
   "outputs": [],
   "source": []
  },
  {
   "cell_type": "code",
   "execution_count": null,
   "id": "88197478",
   "metadata": {},
   "outputs": [],
   "source": []
  }
 ],
 "metadata": {
  "kernelspec": {
   "display_name": "Python 3",
   "language": "python",
   "name": "python3"
  },
  "language_info": {
   "codemirror_mode": {
    "name": "ipython",
    "version": 3
   },
   "file_extension": ".py",
   "mimetype": "text/x-python",
   "name": "python",
   "nbconvert_exporter": "python",
   "pygments_lexer": "ipython3",
   "version": "3.9.6"
  }
 },
 "nbformat": 4,
 "nbformat_minor": 5
}
