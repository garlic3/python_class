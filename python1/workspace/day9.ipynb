{
 "cells": [
  {
   "cell_type": "code",
   "execution_count": 16,
   "id": "b2d51480",
   "metadata": {},
   "outputs": [
    {
     "name": "stdout",
     "output_type": "stream",
     "text": [
      "4\n",
      "1\n",
      "1\n",
      "Animal.sound = \n",
      "4\n",
      "1\n",
      "1\n",
      "dog.sound = 멍멍\n",
      "white\n",
      "멍멍\n",
      "<__main__.Animal object at 0x000001BB437A9EB0>\n",
      "sound = 바우바우\n",
      "self.sound = 멍멍\n",
      "인스턴스 메소드 작동!\n",
      "<class '__main__.Animal'>\n",
      "1\n",
      "cls.legs = 4\n",
      "legs = 2\n",
      "<class '__main__.Animal'>\n",
      "1\n",
      "cls.legs = 4\n",
      "legs = 2\n",
      "정적 메소드1\n",
      "num1 = 1\n",
      "num2 = 3\n",
      "정적 메소드2\n",
      "정적 메소드1\n",
      "num1 = 2\n",
      "num2 = 4\n",
      "정적 메소드2\n"
     ]
    }
   ],
   "source": [
    "# 클래스\n",
    "\n",
    "class Animal:\n",
    "    \n",
    "    # 클래스 변수     \n",
    "    legs = 4\n",
    "    head = 1\n",
    "    neck = 1\n",
    "\n",
    "    sound = \"\"\n",
    "    \n",
    "    # 생성자     \n",
    "    def __init__(self, sound, color):\n",
    "        self.sound = sound\n",
    "        self.color = color\n",
    "        \n",
    "    # 인스턴스 변수 출력 메소드\n",
    "    def get_sound(self, sound):\n",
    "        print(self)\n",
    "        print(f\"sound = {sound}\")\n",
    "        print(f\"self.sound = {self.sound}\")\n",
    "        print(\"인스턴스 메소드 작동!\")\n",
    "        \n",
    "    # 클래스 변수 출력 메소드         \n",
    "    @classmethod\n",
    "    def get_info(cls, legs):\n",
    "        print(cls)\n",
    "        print(cls.head)\n",
    "        print(f\"cls.legs = {cls.legs}\")\n",
    "        print(f\"legs = {legs}\")\n",
    "        \n",
    "    # 정적 메소드\n",
    "    @staticmethod\n",
    "    def get_sum(num1, num2):\n",
    "        print(\"정적 메소드1\")\n",
    "        print(f\"num1 = {num1}\")\n",
    "        print(f\"num2 = {num2}\")\n",
    "    \n",
    "    @staticmethod\n",
    "    def print_msg():\n",
    "        print(\"정적 메소드2\")\n",
    "    \n",
    "        \n",
    "\n",
    "#객체화\n",
    "dog = Animal(\"멍멍\", \"white\")      \n",
    "\n",
    "# 클래스 변수 사용\n",
    "# 클래스로 호출\n",
    "print(Animal.legs)\n",
    "print(Animal.head)\n",
    "print(Animal.neck)\n",
    "print(f\"Animal.sound = {Animal.sound}\")\n",
    "\n",
    "\n",
    "# 인스턴스로 호출\n",
    "print(dog.legs)\n",
    "print(dog.head)\n",
    "print(dog.neck)\n",
    "print(f\"dog.sound = {dog.sound}\")\n",
    "\n",
    "\n",
    "# 인스턴스 변수 사용\n",
    "# 클래스로 호출(에러 발생. 인스턴스 생성여부가 불확실)\n",
    "# print(Animal.color)\n",
    "\n",
    "# 인스턴스로 호출\n",
    "print(dog.color)\n",
    "print(dog.sound) \n",
    "\n",
    "# 인스턴스 메소드 사용\n",
    "# 클래스로 호출(에러발생.)\n",
    "# Animal.get_sound(\"바우바우\")\n",
    "\n",
    "# 인스턴스로 호출\n",
    "dog.get_sound(\"바우바우\")\n",
    "\n",
    "\n",
    "# 클래스 메소드 사용\n",
    "# 클래스로 호출\n",
    "Animal.get_info(2)\n",
    "\n",
    "# 인스턴스로 호출\n",
    "dog.get_info(2)\n",
    "\n",
    "# 정적 메소드 사용\n",
    "# 클래스로 호출\n",
    "Animal.get_sum(1,3)\n",
    "Animal.print_msg()\n",
    "\n",
    "# 인스턴스로 호출\n",
    "dog.get_sum(2,4)\n",
    "dog.print_msg()"
   ]
  },
  {
   "cell_type": "code",
   "execution_count": 18,
   "id": "8c9eb6f7",
   "metadata": {},
   "outputs": [
    {
     "name": "stdout",
     "output_type": "stream",
     "text": [
      "비디오를 입력받습니다\n",
      "13번 채널에서 뽀로로를 방영합니다\n"
     ]
    }
   ],
   "source": [
    "# 클래스명: 비디오\n",
    "# 인스턴스명: 애니메이션\n",
    "# 클래스 변수: box_size = 600 runtime = 60\n",
    "# 인스턴스 변수: title = \"뽀로로\", tv_num = 13\n",
    "# 클래스 메소드 1개 print(\"비디오를 입력받습니다\") 출력하는 메소드\n",
    "# 인스턴스 메소드: tv_num 번 채널에서 title을 방영합니다 라고 출력\n",
    "\n",
    "\n",
    "class Video:\n",
    "    box_size = 600\n",
    "    runtime = 60\n",
    "    \n",
    "    # 생성자      \n",
    "    def __init__(self, title, tv_num):\n",
    "        self.title = title\n",
    "        self.tv_num = tv_num\n",
    "        \n",
    "    # 인스턴스 메소드\n",
    "    def start_video(self):\n",
    "        print(f\"{self.tv_num}번 채널에서 {self.title}를 방영합니다\")\n",
    "        \n",
    "    # 클래스 메소드\n",
    "    @classmethod\n",
    "    def start(cls):\n",
    "        print(\"비디오를 입력받습니다\")\n",
    "        \n",
    "\n",
    "animation = Video(\"뽀로로\", 13)\n",
    "animation.start()\n",
    "animation.start_video()\n",
    "\n",
    "        \n",
    "        "
   ]
  },
  {
   "cell_type": "code",
   "execution_count": 23,
   "id": "ae612f13",
   "metadata": {},
   "outputs": [
    {
     "name": "stdout",
     "output_type": "stream",
     "text": [
      "부모 클래스 생성자 호출!\n",
      "17\n",
      "min\n",
      "자식 클래스 메소드\n",
      "True\n",
      "True\n"
     ]
    }
   ],
   "source": [
    "# 상속\n",
    "\n",
    "# 부모 클래스\n",
    "class Person:\n",
    "    def __init__(self, age=18):\n",
    "        self.age = age\n",
    "        print(\"부모 클래스 생성자 호출!\")\n",
    "\n",
    "    def print_age(self):\n",
    "        print(\"부모 클래스 메소드\")\n",
    "        print(self.age)\n",
    "\n",
    "# 자식 클래스(기본 생성자)\n",
    "class Student(Person):\n",
    "    def print_name(self):\n",
    "        print(self)\n",
    "        print(\"자식 클래스 메소드\")\n",
    "        \n",
    "# boy = Student()\n",
    "# boy.print_age()\n",
    "# boy.print_name()\n",
    "\n",
    "\n",
    "# 자식 클래스(생성자를 직접 선언)\n",
    "class Police(Person):\n",
    "    def __init__(self, age, name):\n",
    "        super().__init__(age)\n",
    "        self.name = name\n",
    "        \n",
    "    def print_police(self):\n",
    "        print(self.age)\n",
    "        print(self.name)\n",
    "    \n",
    "    # Overriding      \n",
    "    def print_age(self):\n",
    "        print(\"자식 클래스 메소드\")\n",
    "        \n",
    "pol = Police(17, \"min\")\n",
    "pol.print_police()\n",
    "pol.print_age()\n",
    "\n",
    "\n",
    "# 자식 클래스 객체의 자료형\n",
    "# isinstance(객체, 클래스)\n",
    "\n",
    "# 객체의 타입이 자식 클래스인지 확인\n",
    "print(isinstance(pol, Police))\n",
    "# 객체의 타입이 부모 클래스인지 확인\n",
    "print(isinstance(pol, Person))\n",
    "\n"
   ]
  },
  {
   "cell_type": "code",
   "execution_count": 32,
   "id": "194563ca",
   "metadata": {},
   "outputs": [
    {
     "name": "stdout",
     "output_type": "stream",
     "text": [
      "정수를 입력하세요ㄴㅇㄹㄴㅇㄹ\n",
      "invalid literal for int() with base 10: 'ㄴㅇㄹㄴㅇㄹ'\n",
      "정수를 입력하세요\n",
      "예외 잡기!\n"
     ]
    }
   ],
   "source": [
    "# 예외 처리 \n",
    "\n",
    "try:\n",
    "    int(input(\"정수를 입력하세요\"))\n",
    "except Exception as e:\n",
    "    print(e)\n",
    "    print(\"정수를 입력하세요\")\n",
    "    \n",
    "print(\"예외 잡기!\")"
   ]
  },
  {
   "cell_type": "code",
   "execution_count": 27,
   "id": "62401eba",
   "metadata": {},
   "outputs": [
    {
     "name": "stdout",
     "output_type": "stream",
     "text": [
      "정수를 입력하세요니아로ㅓㅏㅣㄴ올\n"
     ]
    },
    {
     "ename": "ValueError",
     "evalue": "invalid literal for int() with base 10: '니아로ㅓㅏㅣㄴ올'",
     "output_type": "error",
     "traceback": [
      "\u001b[1;31m---------------------------------------------------------------------------\u001b[0m",
      "\u001b[1;31mValueError\u001b[0m                                Traceback (most recent call last)",
      "\u001b[1;32m<ipython-input-27-f83bf0c480e0>\u001b[0m in \u001b[0;36m<module>\u001b[1;34m\u001b[0m\n\u001b[1;32m----> 1\u001b[1;33m \u001b[0mint\u001b[0m\u001b[1;33m(\u001b[0m\u001b[0minput\u001b[0m\u001b[1;33m(\u001b[0m\u001b[1;34m\"정수를 입력하세요\"\u001b[0m\u001b[1;33m)\u001b[0m\u001b[1;33m)\u001b[0m\u001b[1;33m\u001b[0m\u001b[1;33m\u001b[0m\u001b[0m\n\u001b[0m\u001b[0;32m      2\u001b[0m \u001b[0mprint\u001b[0m\u001b[1;33m(\u001b[0m\u001b[1;34m\"예외 잡기!\"\u001b[0m\u001b[1;33m)\u001b[0m\u001b[1;33m\u001b[0m\u001b[1;33m\u001b[0m\u001b[0m\n",
      "\u001b[1;31mValueError\u001b[0m: invalid literal for int() with base 10: '니아로ㅓㅏㅣㄴ올'"
     ]
    }
   ],
   "source": [
    "int(input(\"정수를 입력하세요\"))\n",
    "print(\"예외 잡기!\")"
   ]
  },
  {
   "cell_type": "code",
   "execution_count": 31,
   "id": "93ab1fcd",
   "metadata": {},
   "outputs": [
    {
     "name": "stdout",
     "output_type": "stream",
     "text": [
      "정수 입력해주세요sadlkjfskldf\n",
      "정수만 입력하세요\n",
      "무조건 무조건 실행!\n"
     ]
    }
   ],
   "source": [
    "# 예외 처리2\n",
    "\n",
    "try:\n",
    "    int(input(\"정수 입력해주세요\"))\n",
    "except Exception as e:\n",
    "    print(\"정수만 입력하세요\")\n",
    "finally:\n",
    "    print(\"무조건 무조건 실행!\")"
   ]
  },
  {
   "cell_type": "code",
   "execution_count": null,
   "id": "666abc61",
   "metadata": {},
   "outputs": [],
   "source": [
    "# 예외 처리 예제\n",
    "# 사용자에게 정수 한개를 입력받고 100을 정수로 나눈 결과를 출력\n",
    "# 0을 입력하는 경우(ZeroDivisionError) -> 0은 숫자를 나눌 수 없습니다 \n",
    "# 숫자가 아닐경우(ValueError) -> 숫자를 입력해주세요\n",
    "# 해당 에러 메세지를 출력\n",
    "# 만약 에러가 발생하지 않으면 연산결과 (100/num) 를 출력\n",
    "\n"
   ]
  },
  {
   "cell_type": "code",
   "execution_count": null,
   "id": "adb696e3",
   "metadata": {},
   "outputs": [],
   "source": []
  },
  {
   "cell_type": "code",
   "execution_count": null,
   "id": "99d52579",
   "metadata": {},
   "outputs": [],
   "source": []
  },
  {
   "cell_type": "code",
   "execution_count": null,
   "id": "83652c05",
   "metadata": {},
   "outputs": [],
   "source": []
  },
  {
   "cell_type": "code",
   "execution_count": null,
   "id": "4a01ead7",
   "metadata": {},
   "outputs": [],
   "source": []
  },
  {
   "cell_type": "code",
   "execution_count": null,
   "id": "597d8eeb",
   "metadata": {},
   "outputs": [],
   "source": []
  },
  {
   "cell_type": "code",
   "execution_count": null,
   "id": "c1877092",
   "metadata": {},
   "outputs": [],
   "source": []
  },
  {
   "cell_type": "code",
   "execution_count": null,
   "id": "295fd7ed",
   "metadata": {},
   "outputs": [],
   "source": []
  }
 ],
 "metadata": {
  "kernelspec": {
   "display_name": "Python 3",
   "language": "python",
   "name": "python3"
  },
  "language_info": {
   "codemirror_mode": {
    "name": "ipython",
    "version": 3
   },
   "file_extension": ".py",
   "mimetype": "text/x-python",
   "name": "python",
   "nbconvert_exporter": "python",
   "pygments_lexer": "ipython3",
   "version": "3.9.6"
  }
 },
 "nbformat": 4,
 "nbformat_minor": 5
}
