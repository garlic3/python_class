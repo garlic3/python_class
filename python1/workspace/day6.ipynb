{
 "cells": [
  {
   "cell_type": "code",
   "execution_count": 1,
   "id": "c92ce29a",
   "metadata": {},
   "outputs": [
    {
     "name": "stdout",
     "output_type": "stream",
     "text": [
      "{20, 40, 10, 30}\n"
     ]
    }
   ],
   "source": [
    "# set \n",
    "# pop()\n",
    "\n",
    "age = {10,20,30,40,50}\n",
    "age.pop()\n",
    "\n",
    "print(age)"
   ]
  },
  {
   "cell_type": "code",
   "execution_count": 11,
   "id": "31a93051",
   "metadata": {},
   "outputs": [
    {
     "name": "stdout",
     "output_type": "stream",
     "text": [
      "{'math': 100, 'korean': 90, 'english': 95}\n",
      "100\n",
      "{'math': 100, 'korean': 90, 'english': 95, 'history': 100}\n",
      "{'math': 90, 'korean': 90, 'english': 95, 'history': 100}\n",
      "{'korean': 90, 'english': 95, 'history': 100}\n",
      "dict_keys(['korean', 'english', 'history'])\n",
      "<class 'dict_keys'>\n",
      "dict_values([90, 95, 100])\n",
      "<class 'dict_values'>\n",
      "95\n"
     ]
    }
   ],
   "source": [
    "# dict\n",
    "\n",
    "school = {'math':100, 'korean':90, 'english':95} \n",
    "print(school)\n",
    "\n",
    "# 검색\n",
    "print(school['math'])\n",
    "\n",
    "# 추가\n",
    "school['history'] = 100\n",
    "print(school)\n",
    "\n",
    "# 수정\n",
    "school['math'] = 90\n",
    "print(school) \n",
    "\n",
    "# 삭제\n",
    "del school['math']\n",
    "print(school)\n",
    "\n",
    "# keys()\n",
    "print(school.keys())\n",
    "print(type(school.keys()))\n",
    "\n",
    "# values()\n",
    "print(school.values())\n",
    "print(type(school.values()))\n",
    "\n",
    "# get()\n",
    "print(school.get('english'))"
   ]
  },
  {
   "cell_type": "code",
   "execution_count": 16,
   "id": "3f7a0f30",
   "metadata": {},
   "outputs": [
    {
     "name": "stdout",
     "output_type": "stream",
     "text": [
      "A\n",
      "B\n",
      "C\n",
      "D\n",
      "가\n",
      "나\n",
      "다\n",
      "라\n",
      "200\n",
      "100\n",
      "400\n",
      "300\n",
      "안\n",
      "녕\n",
      "하\n",
      "세\n",
      "요\n"
     ]
    }
   ],
   "source": [
    "# 반복가능객체\n",
    "\n",
    "# 리스트\n",
    "eng = ['A', 'B', 'C', 'D']\n",
    "# 튜플\n",
    "kor = ('가', '나', '다', '라')\n",
    "# 세트\n",
    "score = {100, 200, 300, 400}\n",
    "# 문자열\n",
    "msg = \"안녕하세요\"\n",
    "\n",
    "for i in eng:\n",
    "    print(i)\n",
    "    \n",
    "# len(list)    \n",
    "# for i in range(len(eng)):\n",
    "#     print(eng[i])\n",
    "\n",
    "for i in kor:\n",
    "    print(i)\n",
    "\n",
    "for i in score:\n",
    "    print(i)\n",
    "    \n",
    "for i in msg:\n",
    "    print(i)"
   ]
  },
  {
   "cell_type": "code",
   "execution_count": 18,
   "id": "1e7d3a89",
   "metadata": {},
   "outputs": [
    {
     "name": "stdout",
     "output_type": "stream",
     "text": [
      "다\n",
      "['파', '이', '썬', '수', '업', '입', '니', '다']\n"
     ]
    }
   ],
   "source": [
    "# 문자열 msg에 있는 문자들은 한글자씩 msg_list에 추가(append, insert)\n",
    "# 완성한 msg_list를 출력\n",
    "# 리스트명.append(값)\n",
    "\n",
    "msg_list = []\n",
    "msg = \"파이썬수업입니다\"\n",
    "\n",
    "for i in msg:\n",
    "    msg_list.append(i)\n",
    "    print(i)\n",
    "    \n",
    "print(msg_list)"
   ]
  },
  {
   "cell_type": "code",
   "execution_count": 20,
   "id": "8e2c2c58",
   "metadata": {},
   "outputs": [
    {
     "name": "stdout",
     "output_type": "stream",
     "text": [
      "150\n",
      "30.0\n"
     ]
    }
   ],
   "source": [
    "# 리스트 user_num 의 총 합계를 구하세요\n",
    "# user_sum = 기존값(user_sum) + 다음값\n",
    "# += 복합대입연산자\n",
    "\n",
    "user_sum = 0\n",
    "user_num = [10,20,30,40,50]\n",
    "\n",
    "for i in user_num:\n",
    "    user_sum = user_sum + i\n",
    "#     user_sum += i\n",
    "\n",
    "\n",
    "print(user_sum)\n",
    "\n",
    "# 평균 = 총합계 / 개수\n",
    "\n",
    "avg = user_sum / len(user_num)\n",
    "print(avg)"
   ]
  },
  {
   "cell_type": "code",
   "execution_count": 24,
   "id": "3f7c6359",
   "metadata": {},
   "outputs": [
    {
     "name": "stdout",
     "output_type": "stream",
     "text": [
      "[1, 2, 3, 4, 5]\n",
      "<class 'list'>\n",
      "(1, 2, 3, 4, 5)\n",
      "<class 'tuple'>\n",
      "['안', '녕', '하', '세', '요']\n"
     ]
    },
    {
     "ename": "TypeError",
     "evalue": "'int' object is not iterable",
     "output_type": "error",
     "traceback": [
      "\u001b[1;31m---------------------------------------------------------------------------\u001b[0m",
      "\u001b[1;31mTypeError\u001b[0m                                 Traceback (most recent call last)",
      "\u001b[1;32m<ipython-input-24-f94d22d14cbd>\u001b[0m in \u001b[0;36m<module>\u001b[1;34m\u001b[0m\n\u001b[0;32m     15\u001b[0m \u001b[0mprint\u001b[0m\u001b[1;33m(\u001b[0m\u001b[0mnew_text\u001b[0m\u001b[1;33m)\u001b[0m\u001b[1;33m\u001b[0m\u001b[1;33m\u001b[0m\u001b[0m\n\u001b[0;32m     16\u001b[0m \u001b[1;33m\u001b[0m\u001b[0m\n\u001b[1;32m---> 17\u001b[1;33m \u001b[0mprint\u001b[0m\u001b[1;33m(\u001b[0m\u001b[0mlist\u001b[0m\u001b[1;33m(\u001b[0m\u001b[1;36m10\u001b[0m\u001b[1;33m)\u001b[0m\u001b[1;33m)\u001b[0m\u001b[1;33m\u001b[0m\u001b[1;33m\u001b[0m\u001b[0m\n\u001b[0m",
      "\u001b[1;31mTypeError\u001b[0m: 'int' object is not iterable"
     ]
    }
   ],
   "source": [
    "# 반복가능객체 형변환\n",
    "\n",
    "num = [1,2,3,4,5]\n",
    "\n",
    "print(num)\n",
    "print(type(num))\n",
    "\n",
    "new_num = tuple(num)\n",
    "print(new_num)\n",
    "print(type(new_num))\n",
    "\n",
    "# 문자열\n",
    "text = \"안녕하세요\"\n",
    "new_text = list(text)\n",
    "print(new_text)\n",
    "\n",
    "print(list(10))"
   ]
  },
  {
   "cell_type": "code",
   "execution_count": 25,
   "id": "157d7dad",
   "metadata": {},
   "outputs": [
    {
     "name": "stdout",
     "output_type": "stream",
     "text": [
      "서민성\n"
     ]
    }
   ],
   "source": [
    "# 함수 (매개변수 x, 리턴값x)\n",
    "def print_my_name():\n",
    "    print(\"서민성\")\n",
    "\n",
    "print_my_name()"
   ]
  },
  {
   "cell_type": "code",
   "execution_count": 27,
   "id": "327c02fa",
   "metadata": {},
   "outputs": [
    {
     "name": "stdout",
     "output_type": "stream",
     "text": [
      "10\n",
      "서민성\n",
      "서민성\n",
      "서민성\n",
      "서민성\n",
      "서민성\n",
      "서민성\n",
      "서민성\n",
      "서민성\n",
      "서민성\n",
      "서민성\n"
     ]
    }
   ],
   "source": [
    "# 함수(매개변수 o, 리턴값x)\n",
    "\n",
    "def print_name(num):\n",
    "    print(num)\n",
    "    for i in range(num):\n",
    "        print(\"서민성\")\n",
    "\n",
    "print_name(10)\n"
   ]
  },
  {
   "cell_type": "code",
   "execution_count": 29,
   "id": "ce4e4675",
   "metadata": {},
   "outputs": [
    {
     "name": "stdout",
     "output_type": "stream",
     "text": [
      "서민성\n",
      "서민성\n"
     ]
    }
   ],
   "source": [
    "# 함수(매개변수 x, return o)\n",
    "\n",
    "def get_my_name():\n",
    "    name = \"서민성\"\n",
    "    return name\n",
    "\n",
    "my_name = get_my_name()\n",
    "print(my_name)\n",
    "print(get_my_name())"
   ]
  },
  {
   "cell_type": "code",
   "execution_count": 35,
   "id": "e6ba1576",
   "metadata": {},
   "outputs": [
    {
     "name": "stdout",
     "output_type": "stream",
     "text": [
      "num1 = 1\n",
      "num2 = 3\n",
      "4\n",
      "5\n"
     ]
    }
   ],
   "source": [
    "# 함수(매개변수 o, return o)\n",
    "\n",
    "def sum_num(num1, num2):\n",
    "    print(f\"num1 = {num1}\")\n",
    "    print(f\"num2 = {num2}\")\n",
    "    sum_result = num1 + num2\n",
    "    return sum_result\n",
    "\n",
    "print(sum_num(1,3))\n",
    "\n",
    "print(num1)\n",
    "\n",
    "# num1 = 5\n",
    "# num2 = 2\n",
    "# print(sum_num(num2, num1))"
   ]
  },
  {
   "cell_type": "code",
   "execution_count": 34,
   "id": "17ccec62",
   "metadata": {},
   "outputs": [
    {
     "name": "stdout",
     "output_type": "stream",
     "text": [
      "return 전입니다\n"
     ]
    }
   ],
   "source": [
    "# return -> 함수종료\n",
    "def hello():\n",
    "    print(\"return 전입니다\")\n",
    "    return \n",
    "    print(\"return 후입니다\")\n",
    "\n",
    "hello()\n"
   ]
  },
  {
   "cell_type": "code",
   "execution_count": null,
   "id": "30cc7caf",
   "metadata": {},
   "outputs": [],
   "source": [
    "# 함수 예제(매개변수 o, 리턴값 o)\n",
    "# 매개변수 2개 \n",
    "# 빼기 함수 1개\n",
    "# 나누기 함수 1개 \n",
    "# 곱하기 함수 1개\n",
    "# 나머지 구하는 함수 1개 \n",
    "# 산술연산자\n",
    "\n",
    "# def 함수명(매개변수):\n",
    "#     실행할 코드\n",
    "#     return 리턴값\n",
    "\n",
    "\n"
   ]
  },
  {
   "cell_type": "code",
   "execution_count": 6,
   "id": "8b81063a",
   "metadata": {},
   "outputs": [
    {
     "name": "stdout",
     "output_type": "stream",
     "text": [
      "2\n",
      "1\n",
      "8\n",
      "8\n",
      "5.0\n"
     ]
    }
   ],
   "source": [
    "# 모듈\n",
    "\n",
    "import math\n",
    "\n",
    "# ceil()\n",
    "# 실수를 올림처리\n",
    "print(math.ceil(1.1))\n",
    "\n",
    "# floor()\n",
    "# 실수를 내림처리\n",
    "print(math.floor(1.9))\n",
    "\n",
    "# pow()\n",
    "# 거듭제곱\n",
    "print(int(math.pow(2,3)))\n",
    "print(2**3)\n",
    "\n",
    "# sqrt() squre root \n",
    "# 제곱근\n",
    "print(math.sqrt(25))"
   ]
  },
  {
   "cell_type": "code",
   "execution_count": 11,
   "id": "42ec1064",
   "metadata": {},
   "outputs": [
    {
     "name": "stdout",
     "output_type": "stream",
     "text": [
      "2\n",
      "0.3091153063616021\n",
      "[5, 2, 1, 4, 3]\n",
      "None\n"
     ]
    }
   ],
   "source": [
    "import random\n",
    "# random 모듈\n",
    "\n",
    "# randint() \n",
    "# 지정해준 범위에서 임의의 정수\n",
    "print(random.randint(1, 10))\n",
    "\n",
    "# random()\n",
    "# 0이상 1미만의 실수\n",
    "print(random.random())\n",
    "\n",
    "# shuffle() -> 임의대로 값을 섞는것\n",
    "r_list = [1,2,3,4,5]\n",
    "new_list = random.shuffle(r_list)\n",
    "print(r_list)\n",
    "print(new_list)"
   ]
  },
  {
   "cell_type": "code",
   "execution_count": 12,
   "id": "d122ad01",
   "metadata": {},
   "outputs": [
    {
     "name": "stdout",
     "output_type": "stream",
     "text": [
      "2022-08-26 20:45:41.107952\n"
     ]
    }
   ],
   "source": [
    "# datetime 모듈\n",
    "import datetime\n",
    "\n",
    "today = datetime.datetime.now()\n",
    "print(today)"
   ]
  },
  {
   "cell_type": "code",
   "execution_count": null,
   "id": "68c5fb6e",
   "metadata": {},
   "outputs": [],
   "source": []
  },
  {
   "cell_type": "code",
   "execution_count": null,
   "id": "17986545",
   "metadata": {},
   "outputs": [],
   "source": []
  },
  {
   "cell_type": "code",
   "execution_count": null,
   "id": "a0d04c87",
   "metadata": {},
   "outputs": [],
   "source": []
  },
  {
   "cell_type": "code",
   "execution_count": null,
   "id": "6a4acda0",
   "metadata": {},
   "outputs": [],
   "source": []
  },
  {
   "cell_type": "code",
   "execution_count": null,
   "id": "6dc67b39",
   "metadata": {},
   "outputs": [],
   "source": []
  },
  {
   "cell_type": "code",
   "execution_count": null,
   "id": "203e5721",
   "metadata": {},
   "outputs": [],
   "source": []
  }
 ],
 "metadata": {
  "kernelspec": {
   "display_name": "Python 3",
   "language": "python",
   "name": "python3"
  },
  "language_info": {
   "codemirror_mode": {
    "name": "ipython",
    "version": 3
   },
   "file_extension": ".py",
   "mimetype": "text/x-python",
   "name": "python",
   "nbconvert_exporter": "python",
   "pygments_lexer": "ipython3",
   "version": "3.9.6"
  }
 },
 "nbformat": 4,
 "nbformat_minor": 5
}
