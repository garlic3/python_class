{
 "cells": [
  {
   "cell_type": "code",
   "execution_count": 1,
   "id": "ef51f975",
   "metadata": {
    "scrolled": true
   },
   "outputs": [
    {
     "name": "stdout",
     "output_type": "stream",
     "text": [
      "0\n",
      "1\n",
      "2\n",
      "3\n",
      "4\n"
     ]
    }
   ],
   "source": [
    "# while문\n",
    "\n",
    "# for i in range(5):\n",
    "#     print(i)\n",
    "    \n",
    "n = 0    \n",
    "while n < 5:\n",
    "    print(n)\n",
    "    n += 1"
   ]
  },
  {
   "cell_type": "code",
   "execution_count": 1,
   "id": "2ebb3044",
   "metadata": {
    "scrolled": true
   },
   "outputs": [
    {
     "name": "stdout",
     "output_type": "stream",
     "text": [
      "정수를 입력하세요10\n",
      "1번째 안녕\n",
      "2번째 안녕\n",
      "3번째 안녕\n",
      "4번째 안녕\n",
      "5번째 안녕\n",
      "6번째 안녕\n",
      "7번째 안녕\n",
      "8번째 안녕\n",
      "9번째 안녕\n",
      "10번째 안녕\n"
     ]
    }
   ],
   "source": [
    "# while문\n",
    "\n",
    "num = int(input(\"정수를 입력하세요\"))\n",
    "count = 0\n",
    "\n",
    "while count != num:\n",
    "    if(num < 0):\n",
    "        print(\"잘못된 입력입니다\")\n",
    "    print(f\"{count+1}번째 안녕\")\n",
    "    count += 1\n"
   ]
  },
  {
   "cell_type": "code",
   "execution_count": 4,
   "id": "806b5968",
   "metadata": {},
   "outputs": [
    {
     "name": "stdout",
     "output_type": "stream",
     "text": [
      "30이하의 정수를 입력하세요19\n",
      "오답\n",
      "30이하의 정수를 입력하세요18\n",
      "오답\n",
      "30이하의 정수를 입력하세요17\n",
      "오답\n",
      "30이하의 정수를 입력하세요10\n",
      "오답\n",
      "30이하의 정수를 입력하세요20\n",
      "정답\n"
     ]
    }
   ],
   "source": [
    "# while 예제\n",
    "# answer = 20\n",
    "\n",
    "# 사용자에게 정답을 맞출때까지 계속 \"30이하의 정수를 입력하세요\" 라고 출력을 \n",
    "# 해주면서 값을 입력받습니다\n",
    "# 정답이 아니면 오답이라고 출력하고 정답일경우에는 정답이라고 출력 후 프로그램을\n",
    "# 종료\n",
    "\n",
    "# break 사용, input()함수 사용, 조건식(if-else)\n",
    "\n",
    "answer = 20\n",
    "user_answer = 0\n",
    "\n",
    "while user_answer != 20:\n",
    "    user_answer = int(input(\"30이하의 정수를 입력하세요\"))\n",
    "    if(user_answer == 20):\n",
    "        print(\"정답\")\n",
    "        break\n",
    "    print(\"오답\")\n"
   ]
  },
  {
   "cell_type": "code",
   "execution_count": 6,
   "id": "f3002a70",
   "metadata": {},
   "outputs": [
    {
     "name": "stdout",
     "output_type": "stream",
     "text": [
      "정수 1개를 입력해주세요5\n",
      "1\n",
      "2\n",
      "3\n",
      "4\n",
      "5\n"
     ]
    }
   ],
   "source": [
    "# while문 예제\n",
    "# 사용자에게 정수 1개를 입력 받고\n",
    "# 1부터 정수까지 출력\n",
    "\n",
    "num = int(input(\"정수 1개를 입력해주세요\"))\n",
    "count = 0\n",
    "\n",
    "while count != num:\n",
    "    print(count + 1)\n",
    "    count +=1"
   ]
  },
  {
   "cell_type": "code",
   "execution_count": 13,
   "id": "0350037a",
   "metadata": {},
   "outputs": [
    {
     "name": "stdout",
     "output_type": "stream",
     "text": [
      "[100, 90, 80, 70]\n",
      "100\n",
      "100\n",
      "[]\n",
      "[1, 1, 1, 1, 1]\n",
      "4\n",
      "0\n",
      "5\n"
     ]
    }
   ],
   "source": [
    "# 리스트\n",
    "\n",
    "eng = 100\n",
    "kor = 90\n",
    "math = 80\n",
    "history = 70\n",
    "\n",
    "# 값들을 알고있을때 \n",
    "score = [100, 90, 80, 70]\n",
    "print(score)\n",
    "print(eng)\n",
    "print(score[0])\n",
    "\n",
    "# 값들을 아직 모를때\n",
    "credit = []\n",
    "print(credit)\n",
    "\n",
    "\n",
    "# 값이랑 몇칸이 필요한지 알고있을때\n",
    "num = [1]*5\n",
    "print(num)\n",
    "\n",
    "\n",
    "print(len(score))\n",
    "print(len(credit))\n",
    "print(len(num))"
   ]
  },
  {
   "cell_type": "code",
   "execution_count": 16,
   "id": "c328e0f2",
   "metadata": {},
   "outputs": [
    {
     "name": "stdout",
     "output_type": "stream",
     "text": [
      "[100, 90, 80, 70, 60]\n",
      "5\n",
      "[100, 80, 90, 80, 70, 60]\n"
     ]
    }
   ],
   "source": [
    "# 리스트 추가\n",
    "score = [100, 90, 80, 70]\n",
    "\n",
    "score.append(60)\n",
    "print(score)\n",
    "print(len(score))\n",
    "\n",
    "score.insert(1,80)\n",
    "print(score)\n"
   ]
  },
  {
   "cell_type": "code",
   "execution_count": 23,
   "id": "7f2173fe",
   "metadata": {},
   "outputs": [
    {
     "name": "stdout",
     "output_type": "stream",
     "text": [
      "[90, 100, 70]\n",
      "[90, 70]\n",
      "[]\n",
      "[90, 100, 70]\n",
      "[90, 100]\n"
     ]
    }
   ],
   "source": [
    "# 리스트 삭제\n",
    "score = [100, 90, 80, 70]\n",
    "\n",
    "# remove()\n",
    "score = [100, 90, 100, 70]\n",
    "score.remove(100)\n",
    "print(score)\n",
    "\n",
    "# del\n",
    "del score[1]\n",
    "print(score)\n",
    "\n",
    "# clear()\n",
    "score.clear()\n",
    "print(score)\n",
    "\n",
    "\n",
    "# pop(인덱스번호)\n",
    "score = [100, 90, 100, 70]\n",
    "score.pop(0)\n",
    "print(score)\n",
    "score.pop()\n",
    "print(score)"
   ]
  },
  {
   "cell_type": "code",
   "execution_count": 24,
   "id": "87154eae",
   "metadata": {},
   "outputs": [
    {
     "name": "stdout",
     "output_type": "stream",
     "text": [
      "[99, 100]\n"
     ]
    }
   ],
   "source": [
    "# 리스트의 수정\n",
    "score[0] = 99\n",
    "print(score)"
   ]
  },
  {
   "cell_type": "code",
   "execution_count": 29,
   "id": "252d3ed1",
   "metadata": {},
   "outputs": [
    {
     "name": "stdout",
     "output_type": "stream",
     "text": [
      "90\n",
      "70\n",
      "[80, 70]\n",
      "0\n"
     ]
    }
   ],
   "source": [
    "# 리스트의 검색\n",
    "score = [100, 90, 80, 70]\n",
    "print(score[1])\n",
    "print(score[-1])\n",
    "print(score[2:4])\n",
    "\n",
    "print(score.index(100))\n"
   ]
  },
  {
   "cell_type": "code",
   "execution_count": 33,
   "id": "b92b93ad",
   "metadata": {},
   "outputs": [
    {
     "name": "stdout",
     "output_type": "stream",
     "text": [
      "True\n",
      "False\n",
      "0\n"
     ]
    }
   ],
   "source": [
    "# 멤버 연산자\n",
    "score = [100, 90, 80, 70]\n",
    "# print(score.index(1))\n",
    "\n",
    "print(100 in score)\n",
    "print(100 not in score)\n",
    "\n",
    "if 100 in score:\n",
    "    print(score.index(100))"
   ]
  },
  {
   "cell_type": "code",
   "execution_count": 38,
   "id": "e6999fe6",
   "metadata": {},
   "outputs": [
    {
     "name": "stdout",
     "output_type": "stream",
     "text": [
      "('red', 'blue', 'black')\n",
      "3\n",
      "red\n",
      "True\n",
      "('red', 'blue')\n"
     ]
    }
   ],
   "source": [
    "# 튜플\n",
    "color = ('red', 'blue', 'black')\n",
    "print(color)\n",
    "print(len(color))\n",
    "\n",
    "print(color[0])\n",
    "print('red' in color)\n",
    "print(color[0:2])"
   ]
  },
  {
   "cell_type": "code",
   "execution_count": 48,
   "id": "4f064556",
   "metadata": {},
   "outputs": [
    {
     "name": "stdout",
     "output_type": "stream",
     "text": [
      "{50, 20, 40, 10, 30}\n",
      "{50, 20, 40, 10, 60, 30}\n",
      "{50, 20, 40, 10, 30}\n",
      "{20, 40, 10, 30}\n"
     ]
    }
   ],
   "source": [
    "# 세트\n",
    "age = {10, 20, 30, 40, 50}\n",
    "print(age)\n",
    "\n",
    "# add()\n",
    "age.add(60)\n",
    "print(age)\n",
    "\n",
    "# remove()\n",
    "age.remove(60)\n",
    "print(age)\n",
    "\n",
    "# discard()\n",
    "age.remove(50)\n",
    "print(age)\n",
    "\n",
    "age.discard('A')"
   ]
  },
  {
   "cell_type": "code",
   "execution_count": null,
   "id": "024e4130",
   "metadata": {},
   "outputs": [],
   "source": []
  },
  {
   "cell_type": "code",
   "execution_count": null,
   "id": "3ad5052e",
   "metadata": {},
   "outputs": [],
   "source": []
  },
  {
   "cell_type": "code",
   "execution_count": null,
   "id": "b102afc0",
   "metadata": {},
   "outputs": [],
   "source": []
  },
  {
   "cell_type": "code",
   "execution_count": null,
   "id": "e174ce7d",
   "metadata": {},
   "outputs": [],
   "source": []
  },
  {
   "cell_type": "code",
   "execution_count": null,
   "id": "8ae7a466",
   "metadata": {},
   "outputs": [],
   "source": []
  },
  {
   "cell_type": "code",
   "execution_count": null,
   "id": "2a1fdfc9",
   "metadata": {},
   "outputs": [],
   "source": []
  },
  {
   "cell_type": "code",
   "execution_count": null,
   "id": "4fe1ad42",
   "metadata": {},
   "outputs": [],
   "source": []
  },
  {
   "cell_type": "code",
   "execution_count": null,
   "id": "ce9fa703",
   "metadata": {},
   "outputs": [],
   "source": []
  }
 ],
 "metadata": {
  "kernelspec": {
   "display_name": "Python 3",
   "language": "python",
   "name": "python3"
  },
  "language_info": {
   "codemirror_mode": {
    "name": "ipython",
    "version": 3
   },
   "file_extension": ".py",
   "mimetype": "text/x-python",
   "name": "python",
   "nbconvert_exporter": "python",
   "pygments_lexer": "ipython3",
   "version": "3.9.6"
  }
 },
 "nbformat": 4,
 "nbformat_minor": 5
}
